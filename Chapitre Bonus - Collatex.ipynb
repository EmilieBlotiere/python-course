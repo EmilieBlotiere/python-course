{
 "cells": [
  {
   "cell_type": "markdown",
   "metadata": {},
   "source": [
    "Collatex est un module python permettant de faire de la collation automatique. Pour lancer ce ipython notebook, installez le package en utilisant la ligne suivante dans votre terminal ou invité de commandes :\n",
    "\n",
    "Essayez sur les autres plateformes, trouver le dossier `anaconda/bin`, faire `cd [Chemin vers anaconda/bin]` puis : \n",
    "\n",
    "```\n",
    "> anaconda/bin $ source activate py34\n",
    "> anaconda/bin $ pip install collatex-2.0.0rc11\n",
    "```\n",
    "\n",
    "Nous venons d'utiliser pip, un module python permettant l'installation de modules via une plate-forme (PyPy)"
   ]
  },
  {
   "cell_type": "markdown",
   "metadata": {},
   "source": [
    "Dans un premier temps, nous allons importer un module, nous avons vu comment faire cela précédemment : (Si une erreur apparaît, vérifiez que collatex est installé correctement)"
   ]
  },
  {
   "cell_type": "code",
   "execution_count": null,
   "metadata": {
    "collapsed": false
   },
   "outputs": [],
   "source": [
    "import collatex"
   ]
  },
  {
   "cell_type": "markdown",
   "metadata": {},
   "source": [
    "Collatex est un outil de collation. Si nous avons deux manuscrits ayant les variantes suivantes ,`The quick brown fox jumps over the dog.` et `The brown fox jumps over the lazy dog.`, Collatex s'occupera d'aligner les morceaux.\n",
    "Dans ce cadre, nous allons créer une instance de la classe Collation. Une **classe** est un type de données ayant ses propres méthodes / fonctions, tout comme les chaînes de caractères (`str()`) ont les leurs : `str(\"haha\").replace(\"a\", \"o\")` se lit ainsi : on a une instance de `str` ayant une méthode (fonction) `replace` qui nous permet de remplacer les `a` par des `o`. Pouvez-vous citez des classes et des méthodes que nous avons rencontrées ?"
   ]
  },
  {
   "cell_type": "code",
   "execution_count": null,
   "metadata": {
    "collapsed": false
   },
   "outputs": [],
   "source": [
    "chaine = str(\"haha\")\n",
    "chaine = chaine.replace(\"a\", \"o\")\n",
    "print(chaine)"
   ]
  },
  {
   "cell_type": "markdown",
   "metadata": {},
   "source": [
    "Créons donc une collation :"
   ]
  },
  {
   "cell_type": "code",
   "execution_count": 9,
   "metadata": {
    "collapsed": false
   },
   "outputs": [
    {
     "name": "stdout",
     "output_type": "stream",
     "text": [
      "+---+-----+-------+--------------------------+------+------+\n",
      "| A | The | quick | brown fox jumps over the | -    | dog. |\n",
      "| B | The | -     | brown fox jumps over the | lazy | dog. |\n",
      "+---+-----+-------+--------------------------+------+------+\n"
     ]
    }
   ],
   "source": [
    "import collatex\n",
    "collation = collatex.Collation()\n",
    "collation.add_plain_witness(\"A\", \"The quick brown fox jumps over the dog.\")\n",
    "collation.add_plain_witness(\"B\", \"The brown fox jumps over the lazy dog.\")\n",
    "\n",
    "alignment_table = collatex.collate(collation)\n",
    "print(alignment_table)"
   ]
  },
  {
   "cell_type": "markdown",
   "metadata": {},
   "source": [
    "Nous avons faits les actions suivantes :\n",
    "\n",
    "- Nous avons rajouté à notre instance collation, via sa méthode `add_plain_witness()`, un manuscrit nommé \"A\" dont le contenu est la première phrase\n",
    "- Nous avons rajouté à notre instance collation, via sa méthode `add_plain_witness()`, un manuscrit nommé \"B\" dont le contenu est la deuxième phrase\n",
    "- Nous avons collationé via la fonction `collate()` du module `collatex`\n",
    "- Nous avons affiché le résultat !"
   ]
  },
  {
   "cell_type": "markdown",
   "metadata": {},
   "source": [
    "Pour le moment (4 Mai 2015), Collatex ne supporte pas les fonctions liées au xml. Nous allons cependant nous intéresser aux différentes fonctions et paramètres. La fonction `Collatex.collate` a la déclaration suivante :\n",
    "\n",
    "```\n",
    "def collate(\n",
    "    collation,\n",
    "    output=\"table\",\n",
    "    layout=\"horizontal\",\n",
    "    segmentation=True,\n",
    "    near_match=False,\n",
    "    astar=False,\n",
    "    debug_scores=False\n",
    "    ):\n",
    "```\n",
    "\n",
    "Output accepte json, html, "
   ]
  }
 ],
 "metadata": {
  "kernelspec": {
   "display_name": "Python 3",
   "language": "python",
   "name": "python3"
  },
  "language_info": {
   "codemirror_mode": {
    "name": "ipython",
    "version": 3
   },
   "file_extension": ".py",
   "mimetype": "text/x-python",
   "name": "python",
   "nbconvert_exporter": "python",
   "pygments_lexer": "ipython3",
   "version": "3.4.3"
  }
 },
 "nbformat": 4,
 "nbformat_minor": 0
}
