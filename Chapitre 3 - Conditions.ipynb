{
 "cells": [
  {
   "cell_type": "markdown",
   "metadata": {},
   "source": [
    "# Chapter 3: Conditions"
   ]
  },
  {
   "cell_type": "markdown",
   "metadata": {},
   "source": [
    "###Conditions Simples"
   ]
  },
  {
   "cell_type": "markdown",
   "metadata": {},
   "source": [
    "En programmation, beaucoup de code dépendent de *si* une condition est remplie. Nous verrons ici comment exprimer certaines conditions en python. Pouvez vous comprendre ce que font ces conditions ?"
   ]
  },
  {
   "cell_type": "code",
   "execution_count": 1,
   "metadata": {
    "collapsed": false
   },
   "outputs": [
    {
     "name": "stdout",
     "output_type": "stream",
     "text": [
      "True\n",
      "True\n",
      "False\n",
      "False\n",
      "True\n",
      "True\n",
      "True\n"
     ]
    }
   ],
   "source": [
    "print(2 < 5)\n",
    "print(2 <= 5)\n",
    "print(3 > 7)\n",
    "print(3 >= 7)\n",
    "print(3 == 3)\n",
    "print(\"school\" == \"school\")\n",
    "print(\"Python\" != \"perl\")"
   ]
  },
  {
   "cell_type": "markdown",
   "metadata": {},
   "source": [
    "Le \"opérateurs logiques\" que nous avons utilisés ici sont : `<`, `<=`, `>`,`>=`,`==`,`!=`. En langage python, on dit que ces expressions logiques sont évaluées quand vous exécutez le code. Le résultat d'une telle évaluation est une valeur binaire ou bouléen (*boolean*) ne peuvent avoirque deux valeurs : `True ` (Vrai) ou `False` (Faux). Vous pouvez assigner un boolean à une variable :"
   ]
  },
  {
   "cell_type": "code",
   "execution_count": 2,
   "metadata": {
    "collapsed": false
   },
   "outputs": [
    {
     "name": "stdout",
     "output_type": "stream",
     "text": [
      "True\n",
      "False\n",
      "<class 'bool'>\n"
     ]
    }
   ],
   "source": [
    "greater = 5 > 2\n",
    "print(greater)\n",
    "greater = 5 < 2\n",
    "print(greater)\n",
    "print(type(greater))"
   ]
  },
  {
   "cell_type": "markdown",
   "metadata": {},
   "source": [
    "### if, elif et else"
   ]
  },
  {
   "cell_type": "markdown",
   "metadata": {},
   "source": [
    "A la fin du chapitre précédent, nous avons parlé de dictionnaires, que sont des structure de données dont vous aurez beaucoup besoin en faisant du python. Souvenez-vous de la collection `livres_favoris` du chapitre précédent. Souvenez vous que l'on pouvait utiliser une clé d'une entrée pour retrouver la note d'un livre de notre collection :"
   ]
  },
  {
   "cell_type": "code",
   "execution_count": 3,
   "metadata": {
    "collapsed": false
   },
   "outputs": [
    {
     "name": "stdout",
     "output_type": "stream",
     "text": [
      "7\n"
     ]
    }
   ],
   "source": [
    "livres_favoris = {\"Emma\":8, \"Pride and Prejudice\":10, \"Sense and Sensibility\":7, \"Northanger Abbey\":3}\n",
    "note = livres_favoris[\"Sense and Sensibility\"]\n",
    "print(note)"
   ]
  },
  {
   "cell_type": "markdown",
   "metadata": {},
   "source": [
    "A un certain point, cependant, nous pourrions oublier quels livres sont déjà dans notre collection. Qu'arrive-t-il si nous essayons d'obtenir la note d'un livre qui n'est pas dans notre collection ?"
   ]
  },
  {
   "cell_type": "code",
   "execution_count": null,
   "metadata": {
    "collapsed": false
   },
   "outputs": [],
   "source": [
    "note = livres_favoris[\"Moby Dick\"]\n",
    "print(note)"
   ]
  },
  {
   "cell_type": "markdown",
   "metadata": {},
   "source": [
    "Nous obtenons une erreur, et plus particulièrement une `KeyError` qui signifie simplement : \"la clé que vous m'avez demandée de retrouver n'est pas dans le dictionnaire...\" Nous apprendrons beaucoup à propos de la gestion d'erreur plus tard, mais pour l'instant nous aimerions faire en sorte que notre programme n'en crée pas. Ecrivon donc un petit programme qui écrire \"X est dans la collection\" ou \"X n'est pas dans la collection\"."
   ]
  },
  {
   "cell_type": "code",
   "execution_count": null,
   "metadata": {
    "collapsed": false
   },
   "outputs": [],
   "source": [
    "book = \"Moby Dick\"\n",
    "if book in livres_favoris:\n",
    "    print(book + \" est dans la collection\")\n",
    "else:\n",
    "    print(book + \" n'est pas dans collection\")"
   ]
  },
  {
   "cell_type": "markdown",
   "metadata": {},
   "source": [
    "Beaucoup de nouvelle syntaxe ici. Allons-y pas à pas. La première teste si la valeur que l'on a assigné à la variable `book` est dans notre collection. La partie après `if` (si) est une expression logique qui nous donnera `True` ou `False`:"
   ]
  },
  {
   "cell_type": "code",
   "execution_count": null,
   "metadata": {
    "collapsed": false
   },
   "outputs": [],
   "source": [
    "print(book in livres_favoris)"
   ]
  },
  {
   "cell_type": "markdown",
   "metadata": {},
   "source": [
    "Parce que notre livre n'est pas dans la colleciton, Python retourne `False`. Faison la même chose avec un livre qui - nous le savons - est dans cette collection:"
   ]
  },
  {
   "cell_type": "code",
   "execution_count": null,
   "metadata": {
    "collapsed": false
   },
   "outputs": [],
   "source": [
    "print(\"Emma\" in good_reads)"
   ]
  },
  {
   "cell_type": "markdown",
   "metadata": {},
   "source": [
    "Bien sûr qu'il est dans la collection ! Retour à notre déclaration `if`. Si l'expression après `if` est `True`, notre programme exécutera la prochaine ligne et affichera  `book + \" est dans la collection\"`. Essayons cela aussi:"
   ]
  },
  {
   "cell_type": "code",
   "execution_count": null,
   "metadata": {
    "collapsed": false
   },
   "outputs": [],
   "source": [
    "if \"Emma\" in livres_favoris:\n",
    "    print(\"Je l'ai trouvé!\")"
   ]
  },
  {
   "cell_type": "code",
   "execution_count": null,
   "metadata": {
    "collapsed": false
   },
   "outputs": [],
   "source": [
    "if book in livres_favoris:\n",
    "    print(\"Je l'ai trouvé!\")"
   ]
  },
  {
   "cell_type": "markdown",
   "metadata": {},
   "source": [
    "Remarquez que le dernier `print()` n'est pas exécuté. C'est parce que la valeur assignée à `book` n'est pas dans notre collection et donc la condition après `if` n'est évaluée comme `True`. Dans notre petit programme au-dessus nous avons utilisé une autre déclaration que `if` : `else`. Pas trop difficile de comprendre ce que cela fait. La partie après `else` (sinon) est executée si la déclaration liée à `if` n'est pas évaluée comme `False`. En français  : si le livre n'est pas dans la collection, alors afficher qu'il ne l'est pas."
   ]
  },
  {
   "cell_type": "markdown",
   "metadata": {},
   "source": [
    "##### Indentation!"
   ]
  },
  {
   "cell_type": "markdown",
   "metadata": {},
   "source": [
    "Contrairement à d'autres langages, Python n'utilise pas les accolades pour marquer le début et la fin d'un morceau de code dans des blocs comme les déclarations `if`. Le seul délimiteur/marqueur est un deux points (`:`) et l'indentation du code (i.e. l'utilisation d'espaces ou tabulations). Cette indentation doit être constante tout au long du code. La convention est d'utiliser 4 espaces pour une indentation. Cela signifie qu'après avoir utilisé `:` (comme après un `if`, la ligne suiviant doit être indentée de 4 espaces. (Le raccourci habituel est d'utilisé une tabulation dans beaucoup d'éditeurs)"
   ]
  },
  {
   "cell_type": "markdown",
   "metadata": {},
   "source": [
    "Des fois, nous avons des conditions variées qui devraient être évaluées pour réaliser des choses différentes. Python fournit pour cela la déclartion `elif` (équivalent à else if \"ou si\"). Son utilisation est donc similaire à `if` ou `else`. Notez cependant que vous pouvez utiliser un `elif` seulement après un `if` ! Au-dessus, nous demandions si un livre était dans notre collection. On peut faire la même chose pour des parties de chaînes ou des éléments d'une liste. Par exemple, on pourrait tester si la lettre a est dans le mot banane:"
   ]
  },
  {
   "cell_type": "code",
   "execution_count": null,
   "metadata": {
    "collapsed": false
   },
   "outputs": [],
   "source": [
    "print(\"a\" in \"banane\")"
   ]
  },
  {
   "cell_type": "markdown",
   "metadata": {},
   "source": [
    "De la même manière, la suite est évaluée comme `False`:"
   ]
  },
  {
   "cell_type": "code",
   "execution_count": 1,
   "metadata": {
    "collapsed": false
   },
   "outputs": [
    {
     "name": "stdout",
     "output_type": "stream",
     "text": [
      "False\n"
     ]
    }
   ],
   "source": [
    "print(\"z\" in \"banane\")"
   ]
  },
  {
   "cell_type": "markdown",
   "metadata": {},
   "source": [
    "Utilisons désormais la combinaison `if-elif-else` , un moyen très simple d'implémenter un arbre de décision ('decision trees') en Python:"
   ]
  },
  {
   "cell_type": "code",
   "execution_count": null,
   "metadata": {
    "collapsed": false
   },
   "outputs": [],
   "source": [
    "word = \"rocket science\"\n",
    "if \"a\" in word:\n",
    "    print(word + \" contient la lettre a\")\n",
    "elif \"s\" in word:\n",
    "    print(word + \" contient la lettre s\")\n",
    "elif \"d\" in word:\n",
    "    print(word + \" contient la lettre s\")\n",
    "elif \"c\" in word:\n",
    "    print(word + \" contient la lettre c\")\n",
    "else:\n",
    "    print(\"Quel drôle de mot!\")"
   ]
  },
  {
   "cell_type": "markdown",
   "metadata": {},
   "source": [
    "D'abord la condition `if` est évaluée. Seulement si cette condition est `False`, l'ordinateur passera à la prochaine condition. Si la condition `elif` suivant est aussi `False`, la machine continuera au prochain jusqu'à arriver au bloc de code par défaut associé à `else`. Vous pouvez penser à ce morceau de code en tant qu'arbre de décision. Souvenez-vous: si quelque part dans l'arbre, votre machine trouve quelque chose qui est vrai, il ne fera pas attention à la suite des autres conditions !"
   ]
  },
  {
   "cell_type": "markdown",
   "metadata": {},
   "source": [
    "--------"
   ]
  },
  {
   "cell_type": "markdown",
   "metadata": {},
   "source": [
    "##DIY"
   ]
  },
  {
   "cell_type": "markdown",
   "metadata": {},
   "source": [
    "Pratiquons désormais nos nouvelles compétences un petit peu. Ecrivez un petit programme qui définit une variable `poids`. Si le poids est au-dessus de 50 kg, on facture 25€ et affiche \"Il y a un supplément de 25€ pour des bagages aussi lourds\". Si cela n'est pas le cas, on affiche \"Merci !\". Si le poids est exactement de 50kg, on affiche \"Ouf, le poids est juste à la limite !\". Changez la valeur pour vérifier que le code est correct. (Tips : n'oubliez pas d'utiliser les opérateurs if-elif-else en respectant l'indentation !"
   ]
  },
  {
   "cell_type": "code",
   "execution_count": 8,
   "metadata": {
    "collapsed": false
   },
   "outputs": [
    {
     "name": "stdout",
     "output_type": "stream",
     "text": [
      "Il y a un supplément de 25€ pour des bagages aussi lourds\n"
     ]
    }
   ],
   "source": [
    "# insert your code here\n",
    "poids = 52\n",
    "if 100 > poids > 50:\n",
    "    print(\"Il y a un supplément de 25€ pour des bagages aussi lourds\")\n",
    "elif poids == 50:\n",
    "    print(\"Ouf, le poids est juste à la limite !\")\n",
    "else:\n",
    "    print(\"Merci !\")"
   ]
  },
  {
   "cell_type": "markdown",
   "metadata": {},
   "source": [
    "-------"
   ]
  },
  {
   "cell_type": "markdown",
   "metadata": {},
   "source": [
    "### and, or, not"
   ]
  },
  {
   "cell_type": "markdown",
   "metadata": {},
   "source": [
    "Jusque lors, nos conditions consistaient à une expression logique unique. Cependant, bien souvent nous souhaiterions tester pour de multiples conditions: par exemple, dire à notre ordinateur de faire quelque chose si ceci et cela étaient vrai mais que cela ne devrait pas l'être. Python fournit de nombreux moyens de faire cela. Le premier est l'élément `and` qui nous permet de combiner deux expressions qui nécessitent toutes les deux d'être `true` Voyons voir comment cela marche:"
   ]
  },
  {
   "cell_type": "code",
   "execution_count": null,
   "metadata": {
    "collapsed": false
   },
   "outputs": [],
   "source": [
    "word = \"banana\"\n",
    "if (\"a\" in word) or (\"b\" in word):\n",
    "    print(\"Both a and b are in \" + word)"
   ]
  },
  {
   "cell_type": "markdown",
   "metadata": {},
   "source": [
    "Pour rendre la chose plus lisible, on peut utiliser des parenthèses:"
   ]
  },
  {
   "cell_type": "code",
   "execution_count": null,
   "metadata": {
    "collapsed": false
   },
   "outputs": [],
   "source": [
    "word = \"banana\"\n",
    "if (\"a\" in word) and (\"b\" in word):\n",
    "    print(\"Both a and b are in \" + word)"
   ]
  },
  {
   "cell_type": "markdown",
   "metadata": {},
   "source": [
    "Si l'une des expresson est fausse, rien ne sera affiché:"
   ]
  },
  {
   "cell_type": "code",
   "execution_count": null,
   "metadata": {
    "collapsed": false
   },
   "outputs": [],
   "source": [
    "if (\"a\" in word) and (\"z\" in word):\n",
    "    print(\"Both a and z are in \" + word)"
   ]
  },
  {
   "cell_type": "markdown",
   "metadata": {},
   "source": [
    "Maintenant que vous savez que l'opérateur `and` existe en python, vous ne serez pas surpris que l'opérateur `or` (ou) peut aussi être utilisé. Remplacez `and` par `or` dans la condition `if` suivante. Pouvez-vous déduire ce qu'il se passe ?"
   ]
  },
  {
   "cell_type": "code",
   "execution_count": null,
   "metadata": {
    "collapsed": false
   },
   "outputs": [],
   "source": [
    "word = \"banana\"\n",
    "if (\"a\" in word) or (\"z\" in word):\n",
    "    print(\"Both a and b are in \" + word)"
   ]
  },
  {
   "cell_type": "markdown",
   "metadata": {},
   "source": [
    "Dans le bloc de code ci-dessous, ajoutez un `else` qui affiche qu'aucune lettre n'a put être trouvée."
   ]
  },
  {
   "cell_type": "code",
   "execution_count": null,
   "metadata": {
    "collapsed": false
   },
   "outputs": [],
   "source": [
    "if (\"a\" in word) or (\"z\" in word):\n",
    "    print(\"a or z are in \" + word)\n",
    "else:\n",
    "    print(\"None of these were found...\")\n",
    "# insert your code here"
   ]
  },
  {
   "cell_type": "markdown",
   "metadata": {},
   "source": [
    "Enfin, on peut utiliser `not` pour vérifier qu'une condition n'est pas vraie:"
   ]
  },
  {
   "cell_type": "code",
   "execution_count": null,
   "metadata": {
    "collapsed": false
   },
   "outputs": [],
   "source": [
    "if (\"z\" not in word):\n",
    "    print(\"z is not in \" + word)"
   ]
  },
  {
   "cell_type": "markdown",
   "metadata": {},
   "source": [
    "Les objets ainsi que les chaînes et les entiers ou les listes peuvent être `True`, simplement parce qu'elles existent. Des chaînes, listes, dictionaires, etc. vides seront `False` car d'une certaine manière elles n'existent pas - une liste vide n'est pas vraiment un liste non ? Ce principe est souvent utilisé par des programmeurs pour, par exemple, n'exécuter qu'une partie d'une code seulement si une liste n'est pas vide :"
   ]
  },
  {
   "cell_type": "code",
   "execution_count": 9,
   "metadata": {
    "collapsed": false
   },
   "outputs": [
    {
     "name": "stdout",
     "output_type": "stream",
     "text": [
      "J'ai trouvé des nombres!\n"
     ]
    }
   ],
   "source": [
    "numbers = [1, 2, 3, 4]\n",
    "if numbers:\n",
    "    print(\"J'ai trouvé des nombres!\")"
   ]
  },
  {
   "cell_type": "markdown",
   "metadata": {},
   "source": [
    "Maintenant, si notre liste est vide, rien n'est affiché !"
   ]
  },
  {
   "cell_type": "code",
   "execution_count": 11,
   "metadata": {
    "collapsed": false
   },
   "outputs": [
    {
     "name": "stdout",
     "output_type": "stream",
     "text": [
      "I found some numbers!\n"
     ]
    }
   ],
   "source": [
    "numbers = []\n",
    "if not numbers:\n",
    "    print(\"I found some numbers!\")"
   ]
  },
  {
   "cell_type": "markdown",
   "metadata": {},
   "source": [
    "--------"
   ]
  },
  {
   "cell_type": "markdown",
   "metadata": {},
   "source": [
    "####  DIY"
   ]
  },
  {
   "cell_type": "markdown",
   "metadata": {},
   "source": [
    "- Pouvez vous écrire un code qui affiche \"Ceci est une liste vide\" si la liste fournit ne contient rien ?"
   ]
  },
  {
   "cell_type": "code",
   "execution_count": 14,
   "metadata": {
    "collapsed": false
   },
   "outputs": [],
   "source": [
    "numbers = True\n",
    "# insert your code here\n",
    "if not numbers:\n",
    "    print(\"Is an empty list\")"
   ]
  },
  {
   "cell_type": "markdown",
   "metadata": {},
   "source": [
    "- Pouvez-vous faire la même chose avec la fonction `len()` ?"
   ]
  },
  {
   "cell_type": "code",
   "execution_count": 15,
   "metadata": {
    "collapsed": false
   },
   "outputs": [
    {
     "ename": "TypeError",
     "evalue": "object of type 'bool' has no len()",
     "output_type": "error",
     "traceback": [
      "\u001b[1;31m---------------------------------------------------------------------------\u001b[0m",
      "\u001b[1;31mTypeError\u001b[0m                                 Traceback (most recent call last)",
      "\u001b[1;32m<ipython-input-15-236efb5d9ebc>\u001b[0m in \u001b[0;36m<module>\u001b[1;34m()\u001b[0m\n\u001b[0;32m      1\u001b[0m \u001b[1;31m# insert your code here\u001b[0m\u001b[1;33m\u001b[0m\u001b[1;33m\u001b[0m\u001b[0m\n\u001b[1;32m----> 2\u001b[1;33m \u001b[1;32mif\u001b[0m \u001b[0mlen\u001b[0m\u001b[1;33m(\u001b[0m\u001b[1;32mTrue\u001b[0m\u001b[1;33m)\u001b[0m \u001b[1;33m==\u001b[0m \u001b[1;36m0\u001b[0m\u001b[1;33m:\u001b[0m\u001b[1;33m\u001b[0m\u001b[0m\n\u001b[0m\u001b[0;32m      3\u001b[0m     \u001b[0mprint\u001b[0m\u001b[1;33m(\u001b[0m\u001b[1;34m\"Is an empty list\"\u001b[0m\u001b[1;33m)\u001b[0m\u001b[1;33m\u001b[0m\u001b[0m\n",
      "\u001b[1;31mTypeError\u001b[0m: object of type 'bool' has no len()"
     ]
    }
   ],
   "source": [
    "# insert your code here\n",
    "if len(True) == 0:\n",
    "    print(\"Is an empty list\")"
   ]
  },
  {
   "cell_type": "markdown",
   "metadata": {},
   "source": [
    "-----------"
   ]
  },
  {
   "cell_type": "markdown",
   "metadata": {},
   "source": [
    "##### Ce que nous avons appris"
   ]
  },
  {
   "cell_type": "markdown",
   "metadata": {},
   "source": [
    "Pour finir cette section, voilà ce que vous avez appris. Regardez cette liste et soyez sûr que vous compreniez tous ces concepts.\n",
    "\n",
    "-  conditions\n",
    "-  indentation\n",
    "-  `if`\n",
    "-  `elif`\n",
    "-  `else`\n",
    "-  `True`\n",
    "-  `False`\n",
    "-  les objets vides sont faux\n",
    "-  `not`\n",
    "-  `in`\n",
    "-  `and`\n",
    "-  `or`\n",
    "-  multiple conditions\n",
    "-  `==`\n",
    "-  `<`\n",
    "-  `>`\n",
    "-  `!=`\n",
    "-  `KeyError`"
   ]
  },
  {
   "cell_type": "markdown",
   "metadata": {},
   "source": [
    "---------"
   ]
  },
  {
   "cell_type": "markdown",
   "metadata": {},
   "source": [
    "##Exercices finaux du Chapitre 3"
   ]
  },
  {
   "cell_type": "markdown",
   "metadata": {},
   "source": [
    "Inspiré par *Think Python* de Allen B. Downey (http://thinkpython.com), *Introduction to Programming Using Python* by Y. Liang (Pearson, 2013). Certains de ces exercices sont repris de : http://www.ling.gu.se/~lager/python_exercises.html."
   ]
  },
  {
   "cell_type": "markdown",
   "metadata": {},
   "source": [
    "- Pouvez-vous implémenter le code schéma suivant en python ??\n",
    "<img src=\"./images/grade.png\">"
   ]
  },
  {
   "cell_type": "code",
   "execution_count": 19,
   "metadata": {
    "collapsed": false
   },
   "outputs": [
    {
     "name": "stdout",
     "output_type": "stream",
     "text": [
      "D\n"
     ]
    }
   ],
   "source": [
    "# grading system\n",
    "note = 0\n",
    "if note >= 80:\n",
    "    print(\"A\")\n",
    "elif note >= 65:\n",
    "    print(\"B\")\n",
    "elif note >= 50:\n",
    "    print(\"C\")\n",
    "else:\n",
    "    print(\"D\")"
   ]
  },
  {
   "cell_type": "markdown",
   "metadata": {},
   "source": [
    "-  Pouvez vous comprendre l'erreur de raisonnement dans le code qui suit ?"
   ]
  },
  {
   "cell_type": "code",
   "execution_count": null,
   "metadata": {
    "collapsed": false
   },
   "outputs": [],
   "source": [
    "score = 98.0\n",
    "if score >= 60.0:\n",
    "    grade = 'D'\n",
    "elif score >= 70.0:\n",
    "    grade = 'C'\n",
    "elif score >= 80.0:\n",
    "    grade = 'B'\n",
    "elif score >= 90.0:\n",
    "    grade = 'A'\n",
    "else:\n",
    "    grade = 'F'\n",
    "print(grade)"
   ]
  },
  {
   "cell_type": "markdown",
   "metadata": {},
   "source": [
    "- Ecrivez en python un code qui définit deux nombre et affiche le plus grand des deux. Utilisez un arbre if-elif-else."
   ]
  },
  {
   "cell_type": "code",
   "execution_count": 24,
   "metadata": {
    "collapsed": false
   },
   "outputs": [
    {
     "name": "stdout",
     "output_type": "stream",
     "text": [
      "4 est plus grand que 3\n"
     ]
    }
   ],
   "source": [
    "# code\n",
    "x = 3\n",
    "y = 4\n",
    "if x > y:\n",
    "    print(str(x) + \" est plus grand que \" + str(y))\n",
    "elif x < y:\n",
    "    print(\"{0} est plus grand que {1}\".format(y, x))\n",
    "else:\n",
    "    print(\"X et Y sont égaux\")"
   ]
  },
  {
   "cell_type": "markdown",
   "metadata": {},
   "source": [
    "---"
   ]
  },
  {
   "cell_type": "markdown",
   "metadata": {},
   "source": [
    "Congrats: you've reached the end of Chapter 3! Ignore the code block below; it's only here to make the page prettier."
   ]
  },
  {
   "cell_type": "code",
   "execution_count": 1,
   "metadata": {
    "collapsed": false
   },
   "outputs": [
    {
     "data": {
      "text/html": [
       "<style>\n",
       "    @font-face {\n",
       "        font-family: \"Computer Modern\";\n",
       "        src: url('http://mirrors.ctan.org/fonts/cm-unicode/fonts/otf/cmunss.otf');\n",
       "    }\n",
       "    div.cell {\n",
       "        width:800px;\n",
       "        margin-left:auto;\n",
       "        margin-right:auto;\n",
       "    }\n",
       "    div.cell, .input.hbox {\n",
       "    display:block;\n",
       "}\n",
       "    h1 {\n",
       "        font-family: \"Charis SIL\", Palatino, serif;\n",
       "    }\n",
       "    h4{\n",
       "        margin-top:12px;\n",
       "        margin-bottom: 3px;\n",
       "       }\n",
       "    div.text_cell_render{\n",
       "        font-family: Computer Modern, \"Helvetica Neue\", Arial, Helvetica, Geneva, sans-serif;\n",
       "        line-height: 145%;\n",
       "        font-size: 120%;\n",
       "        width:800px;\n",
       "        margin-left:auto;\n",
       "        margin-right:auto;\n",
       "    }\n",
       "    .CodeMirror{\n",
       "            font-family: \"Source Code Pro\", source-code-pro,Consolas, monospace;\n",
       "    }\n",
       "    .prompt{\n",
       "        display: None;\n",
       "    }\n",
       "    .text_cell_render h5 {\n",
       "        font-weight: 300;\n",
       "        font-size: 16pt;\n",
       "        color: #4057A1;\n",
       "        font-style: italic;\n",
       "        margin-bottom: .5em;\n",
       "        margin-top: 0.5em;\n",
       "        display: block;\n",
       "    }\n",
       "    \n",
       "    .warning{\n",
       "        color: rgb( 240, 20, 20 )\n",
       "        }\n",
       "\n",
       "    blockquote {\n",
       "    border-left: 4px solid #DDDDDD;\n",
       "    color: #777777;\n",
       "        padding: 0 15px;\n",
       "        }\n",
       "\n",
       "</style>\n",
       "<script>\n",
       "    MathJax.Hub.Config({\n",
       "                        TeX: {\n",
       "                           extensions: [\"AMSmath.js\"]\n",
       "                           },\n",
       "                tex2jax: {\n",
       "                    inlineMath: [ ['$','$'], [\"\\\\(\",\"\\\\)\"] ],\n",
       "                    displayMath: [ ['$$','$$'], [\"\\\\[\",\"\\\\]\"] ]\n",
       "                },\n",
       "                displayAlign: 'center', // Change this to 'center' to center equations.\n",
       "                \"HTML-CSS\": {\n",
       "                    styles: {'.MathJax_Display': {\"margin\": 4}}\n",
       "                }\n",
       "        });\n",
       "</script>"
      ],
      "text/plain": [
       "<IPython.core.display.HTML at 0x107236710>"
      ]
     },
     "execution_count": 1,
     "metadata": {},
     "output_type": "execute_result"
    }
   ],
   "source": [
    "from IPython.core.display import HTML\n",
    "def css_styling():\n",
    "    styles = open(\"styles/custom.css\", \"r\").read()\n",
    "    return HTML(styles)\n",
    "css_styling()"
   ]
  }
 ],
 "metadata": {
  "kernelspec": {
   "display_name": "Python 3",
   "language": "python",
   "name": "python3"
  },
  "language_info": {
   "codemirror_mode": {
    "name": "ipython",
    "version": 3
   },
   "file_extension": ".py",
   "mimetype": "text/x-python",
   "name": "python",
   "nbconvert_exporter": "python",
   "pygments_lexer": "ipython3",
   "version": "3.4.3"
  }
 },
 "nbformat": 4,
 "nbformat_minor": 0
}
