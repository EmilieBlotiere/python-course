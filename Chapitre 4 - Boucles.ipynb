{
 "cells": [
  {
   "cell_type": "markdown",
   "metadata": {},
   "source": [
    "# Chapitre 4: Boucle"
   ]
  },
  {
   "cell_type": "markdown",
   "metadata": {},
   "source": [
    "En programmation, il est bien souvent utile de réaliser la même action pour une série d'objets différents. Vous pourriez, par exemple, vouloir traverser une liste de mots et compter le nombre de caractères pour chaque mot. Vous *pourriez* faire cela pour chaque mot individuellement, un objet par un objet."
   ]
  },
  {
   "cell_type": "code",
   "execution_count": null,
   "metadata": {
    "collapsed": false
   },
   "outputs": [],
   "source": [
    "my_fruits = [\"apple\", \"pear\", \"peach\", \"banana\", \"peach\", \"cherry\", \"orange\", \"kiwi\"]\n",
    "print(len(my_fruits[0]))\n",
    "print(len(my_fruits[1]))\n",
    "print(len(my_fruits[2]))\n",
    "# and so on...\n",
    "print(len(my_fruits[-2]))\n",
    "print(len(my_fruits[-1]))"
   ]
  },
  {
   "cell_type": "markdown",
   "metadata": {},
   "source": [
    "Pas besoin de le dire, c'est plutôt lourd. Heureusement, Python fournit les déclarations `for` pour cela. La boucle `for` permet de traverser n'importe quel objet traversable, comme une liste, et faire la même chose avec chacun des éléments. Le format basic d'une déclaration `for` est: \n",
    "\n",
    "    for un_seul_objet in un_element_traversable:\n",
    "        faire_quelque_chose_avec(un_seul_objet)\n",
    "\n",
    "Ca se lit presque comme du français (mais plus facile pour de l'anglais). On peut ainsi afficher chacune des lettres du mots banane comme suit::"
   ]
  },
  {
   "cell_type": "code",
   "execution_count": null,
   "metadata": {
    "collapsed": false
   },
   "outputs": [],
   "source": [
    "for letter in \"banane\":\n",
    "    print(letter)"
   ]
  },
  {
   "cell_type": "markdown",
   "metadata": {},
   "source": [
    "Le code dans la boucle est exécuté autant de fois qu'il y a de lettres, avec une différente valeur pour la variable `lettre` à chaque itération. (Lisez la phrase précédent jusqu'à être sûr de la comprendre.)"
   ]
  },
  {
   "cell_type": "markdown",
   "metadata": {},
   "source": [
    "De la même manière, on peut afficher tous les éléments d'une liste:"
   ]
  },
  {
   "cell_type": "code",
   "execution_count": null,
   "metadata": {
    "collapsed": false
   },
   "outputs": [],
   "source": [
    "colors = [\"yellow\", \"red\", \"green\", \"blue\", \"purple\"]\n",
    "for color in colors:\n",
    "    print(color)"
   ]
  },
  {
   "cell_type": "markdown",
   "metadata": {},
   "source": [
    "Comme les dictionaires sont traversables aussi, on peut itérer à traver une liste de livres favoris aussi! Cela n'itérera que sur les clefs d'un dictionnaire:"
   ]
  },
  {
   "cell_type": "code",
   "execution_count": null,
   "metadata": {
    "collapsed": false
   },
   "outputs": [],
   "source": [
    "for book in good_reads:\n",
    "    print(book)"
   ]
  },
  {
   "cell_type": "markdown",
   "metadata": {},
   "source": [
    "-------"
   ]
  },
  {
   "cell_type": "markdown",
   "metadata": {},
   "source": [
    "## DIY"
   ]
  },
  {
   "cell_type": "markdown",
   "metadata": {},
   "source": [
    "La fonction `len()` retourne la longueur d'un itérable:"
   ]
  },
  {
   "cell_type": "code",
   "execution_count": null,
   "metadata": {
    "collapsed": false
   },
   "outputs": [],
   "source": [
    "len(\"banana\")"
   ]
  },
  {
   "cell_type": "markdown",
   "metadata": {},
   "source": [
    "- Vous pouvez utilisez cette fonction pour chaque longueur de mot d'une liste de couleur. Ecrivez votre code ici:"
   ]
  },
  {
   "cell_type": "code",
   "execution_count": null,
   "metadata": {
    "collapsed": false
   },
   "outputs": [],
   "source": [
    "colors = [\"yellow\", \"red\", \"green\", \"blue\", \"purple\"]\n",
    "# insert your code here"
   ]
  },
  {
   "cell_type": "markdown",
   "metadata": {},
   "source": [
    "- Maintenant écrivez un petit programme qui itère sur la liste `color` et ajoute chaque couleur qui contient la lettre `r` à une liste `colors_with_list` (Utilisez la fonction `append` !)"
   ]
  },
  {
   "cell_type": "code",
   "execution_count": null,
   "metadata": {
    "collapsed": false
   },
   "outputs": [],
   "source": [
    "colors = [\"yellow\", \"red\", \"green\", \"blue\", \"purple\"]\n",
    "colors_with_r = []\n",
    "# insert you code here"
   ]
  },
  {
   "cell_type": "markdown",
   "metadata": {},
   "source": [
    "--------"
   ]
  },
  {
   "cell_type": "markdown",
   "metadata": {},
   "source": [
    "## DIY"
   ]
  },
  {
   "cell_type": "markdown",
   "metadata": {},
   "source": [
    "Vous avez déjà couvert pas mal des bases. Maintenant, il est temps de mettre ensemble ce que nous avons appris ensemble. Le quiz suivant pourrait être difficile et nous serions plutôt impressioné que vous réussissiez !\n",
    "\n",
    "Ce que nous voulons faire est écrire un code qui compte le nombre de lettre a qui occure dans un texte. Cependant, nous ne pouvons pour cela utiliser un texte lui-même. A la place, nous allons utiliser un dictionnaire de fréquence pour ce test. Dans un dictionnaire `frequency_dictionary` les clefs sont des mots et les valeurs des fréquences. Assignez votre résultat à une variable `number_of_word_as`."
   ]
  },
  {
   "cell_type": "code",
   "execution_count": null,
   "metadata": {
    "collapsed": false
   },
   "outputs": [],
   "source": [
    "frequency_dictionary = {\"Beg\": 1, \"Goddard's\": 1, \"I\": 3, \"them\": 2, \"absent\": 1, \"already\": 1,\n",
    "                          \"alteration\": 1, \"amazement\": 2, \"appeared\": 1, \"apprehensively\": 1, \n",
    "                          \"associations\": 1, 'clever': 1, 'clock': 1, 'composedly': 1, \n",
    "                          'deeply': 7, 'do': 7, 'encouragement': 1, 'entrapped': 1,\n",
    "                          'expressed': 1, 'flatterers': 1, 'following': 12, 'gone': 9, \n",
    "                          'happening': 4, 'hero': 2, 'housekeeper': 1, 'ingratitude': 1, \n",
    "                          'like': 1, 'marriage': 15, 'not': 25, 'opportunities': 1,\n",
    "                          'outgrown': 1, 'playfully': 2, 'remain': 1, 'required': 2, \n",
    "                          'ripening': 1, 'slippery': 1, 'touch': 1, 'twenty-five': 1,\n",
    "                          'ungracious': 2, 'unwell': 1, 'verses': 1, 'yards': 5}\n",
    "number_of_as = 0\n",
    "# insert your code here\n",
    "\n",
    "# if your code is correct, the following line should print True!\n",
    "print(number_of_as == 42)"
   ]
  },
  {
   "cell_type": "markdown",
   "metadata": {},
   "source": [
    "##### while loop"
   ]
  },
  {
   "cell_type": "markdown",
   "metadata": {},
   "source": [
    "Il y a aussi une autre forme de boucle en Pyhton : la boucle `while`. Cette boucle est liée à une expression logique. Une boucle `while` s'exécutera tant que l'expression spécifiée sera évaluée comme vraie. Regardez l'exemple suivant et comment il fonctionne :"
   ]
  },
  {
   "cell_type": "code",
   "execution_count": null,
   "metadata": {
    "collapsed": false
   },
   "outputs": [],
   "source": [
    "number = 5\n",
    "while number < 21:\n",
    "    number += 3\n",
    "    print(number)"
   ]
  },
  {
   "cell_type": "markdown",
   "metadata": {},
   "source": [
    "##### Ce que nous avons appris"
   ]
  },
  {
   "cell_type": "markdown",
   "metadata": {},
   "source": [
    "Pour finir cette section, voilà ce que vous avez appris. Regardez cette liste et soyez sûr que vous compreniez tous ces concepts.\n",
    "\n",
    "-  boucle\n",
    "-  déclaration `for`\n",
    "-  déclaration `while`\n",
    "-  objets traversables\n",
    "-  Assignement de variable dans une boucle `for`"
   ]
  },
  {
   "cell_type": "markdown",
   "metadata": {},
   "source": [
    "-------"
   ]
  },
  {
   "cell_type": "markdown",
   "metadata": {},
   "source": [
    "## Itérables, Itération & Boucles"
   ]
  },
  {
   "cell_type": "markdown",
   "metadata": {},
   "source": [
    "### Tuples & Sets"
   ]
  },
  {
   "cell_type": "markdown",
   "metadata": {},
   "source": [
    "Les listes et dictionnaires sont des structures de données importantes et vous en verrez beaucoup. Elles sont presque toujours combinées avec la puissance d'itération qu'offre les boucles `for` ou autres.\n",
    "\n",
    "En plus de ces structures de données, il y en a deux autres que nous devrions mentionnées, ce sont les *tuples* et les *sets*. Les listes, sets, tuples, dictionnaires et même les chaônes sont souvent appelées itérables, vu qu'elles sont des collections que l'on peut traverser.\n",
    "\n",
    "Les tuples sont des collections ordonnées comme les listes, mais elles sont *immutables*. Une fois créée, rien ne peut être ajoutée, insérée, supprimée ou substituée. L'avantage principal est que cela est plus rapide que les listes, ce qui est intéressant si vous devez gérer un grand nombre de données. La syntaxe pour créer un tuple est à base de parenthèsees `()`. Par exemple:\n",
    "\n",
    "\n",
    "\n"
   ]
  },
  {
   "cell_type": "code",
   "execution_count": null,
   "metadata": {
    "collapsed": false
   },
   "outputs": [],
   "source": [
    "fruittuple = ('banana','apple','pear')\n",
    "print(fruittuple)\n",
    "print(fruittuple[0])"
   ]
  },
  {
   "cell_type": "markdown",
   "metadata": {},
   "source": [
    "Voyez vous une différence entre la manière d'afficher les listes pythons et celle d'afficher des tuples ? Le suivant fonctionne cepenedant pour les listes mais pas pour les tuples (ni pour les chaînes comme nous l'avons vu):"
   ]
  },
  {
   "cell_type": "code",
   "execution_count": null,
   "metadata": {
    "collapsed": false
   },
   "outputs": [],
   "source": [
    "fruittuple[0] = 'orange' # will raise an error, tuples are immutable!"
   ]
  },
  {
   "cell_type": "markdown",
   "metadata": {},
   "source": [
    "Un set est une collection de données désordonnées dans laquelle chaque élément ne peut occuré une seule fois. Des éléments peuvent être ajoutés ou supprimés. Si cela est désordonné cela signifie que vous ne serez vraiment jamais dans quel odre vous aurez les éléments en traversant le set. La syntaxe pour créer un set est `{}`. Il ne faut confondre cela avec les dictionnaire, puisque ceux-là prennent des paires `clef: valeur`  alors que les sets ne prennent que des éléments uniques.\n"
   ]
  },
  {
   "cell_type": "code",
   "execution_count": null,
   "metadata": {
    "collapsed": false
   },
   "outputs": [],
   "source": [
    "fruitset = {'banana', 'apple', 'pear'}\n",
    "fruitset.add('banana') # will have no effect, banana already exists\n",
    "print(fruitset)\n",
    "fruitset.add('orange')\n",
    "print(fruitset)"
   ]
  },
  {
   "cell_type": "markdown",
   "metadata": {},
   "source": [
    "Notez que l'ordre des éléments peut différent de quand vous avez initialisé le `fruitset`. C'est parce que l'ordre n'a aucun sens dans le contexte de sets ainsi que pour des dictionnaires.\n",
    "\n",
    "Dans le chapitre précédent, vous apprenez comment convertir des chaines qui contiennent des nombres en entiers et comment changer des integers et des floats en chaînes. Ce genre de typage peut aussi être réalisé avec des itérables, permettant ainsi de transformer n'importe quel itérable en n'importe quel autre."
   ]
  },
  {
   "cell_type": "code",
   "execution_count": null,
   "metadata": {
    "collapsed": false
   },
   "outputs": [],
   "source": [
    "fruitlist = ['banana', 'apple', 'pear', 'banana', 'pear', 'kiwi']\n",
    "fruitset = set(fruitlist)\n",
    "fruittuple = tuple(fruitlist)\n",
    "fruitlist = list(fruitset)\n",
    "print(fruitset)\n",
    "print(fruittuple)\n",
    "print(fruitlist)"
   ]
  },
  {
   "cell_type": "markdown",
   "metadata": {},
   "source": [
    "---\n"
   ]
  },
  {
   "cell_type": "markdown",
   "metadata": {},
   "source": [
    "### sorted() et reverse()"
   ]
  },
  {
   "cell_type": "markdown",
   "metadata": {},
   "source": [
    "Souvent vous voudrez traverser vos données d'une certaine manière. La fonction `sorted()` prendra n'importe quel itérable et retourne les éléments dans un ordre trié. Pour les chaînes cela sera l'ordre alphabétique, pour les nombres l'ordre numérique.\n",
    "\n"
   ]
  },
  {
   "cell_type": "code",
   "execution_count": null,
   "metadata": {
    "collapsed": false
   },
   "outputs": [],
   "source": [
    "fruits = ['banana', 'apple', 'pear']\n",
    "for fruit in sorted(fruits):\n",
    "    print(fruit)"
   ]
  },
  {
   "cell_type": "markdown",
   "metadata": {},
   "source": [
    "L'ordre inverse est aussi possible en utilisant `reversed()`, ce qui renvoie simplement n'importe quel itérable dans l'ordre inverse:"
   ]
  },
  {
   "cell_type": "code",
   "execution_count": null,
   "metadata": {
    "collapsed": false
   },
   "outputs": [],
   "source": [
    "for fruit in reversed(fruits):\n",
    "    print(fruit)"
   ]
  },
  {
   "cell_type": "markdown",
   "metadata": {},
   "source": [
    "#### DIY"
   ]
  },
  {
   "cell_type": "markdown",
   "metadata": {},
   "source": [
    "- Soit une liste de mots, extrayez seulement ce qui sont des palindromes. Comme vous le savez, un palindrom est un mot qui peut se lire dans le sens inverse. Si vous voulez un vrai challenge, affichez ensuite les palindromes dans l'ordre alphabétique!"
   ]
  },
  {
   "cell_type": "code",
   "execution_count": null,
   "metadata": {
    "collapsed": false
   },
   "outputs": [],
   "source": [
    "words = ['bicycle', 'radar', 'origin', 'tie', 'level', 'poop', 'solar', 'nun']\n",
    "# insert your code here"
   ]
  },
  {
   "cell_type": "markdown",
   "metadata": {},
   "source": [
    "##### 10 points pour Gryffondor !"
   ]
  },
  {
   "cell_type": "markdown",
   "metadata": {},
   "source": [
    "- Il y a ayssu les mots qui ne sont pas des palindromes mais qui dans l'ordre inverse donnent d'autres mots. Par exemple les mots *stressed* et *desserts*. Voici un texte qui en contient quelques un, affichez toutes les paires qui font partie de ce texte (quelque soit la casse), mais excluez les mots qui n'ont qu'une longueur de 1.\n",
    "\n",
    "\n",
    "\n"
   ]
  },
  {
   "cell_type": "code",
   "execution_count": null,
   "metadata": {
    "collapsed": false
   },
   "outputs": [],
   "source": [
    "text = \"I just live for desserts , I really love them . My dog does too . I saw he ate mine . I was very stressed because of that . If dogs steal desserts God can't be real , for it is pure evil .\" \n",
    "# insert your code here"
   ]
  },
  {
   "cell_type": "markdown",
   "metadata": {},
   "source": [
    "### min(), max() et sum()"
   ]
  },
  {
   "cell_type": "markdown",
   "metadata": {},
   "source": [
    "Quand vous travaillez avec des listes de nombres, trois fonctions sont pratiques:"
   ]
  },
  {
   "cell_type": "code",
   "execution_count": null,
   "metadata": {
    "collapsed": false
   },
   "outputs": [],
   "source": [
    "numbers = [1, 2, 3, 4, 5]\n",
    "print(min(numbers))\n",
    "print(max(numbers))\n",
    "print(sum(numbers))"
   ]
  },
  {
   "cell_type": "markdown",
   "metadata": {},
   "source": [
    "#### DIY"
   ]
  },
  {
   "cell_type": "markdown",
   "metadata": {},
   "source": [
    "- Calculez la moyenne de `numbers`:"
   ]
  },
  {
   "cell_type": "code",
   "execution_count": null,
   "metadata": {
    "collapsed": false
   },
   "outputs": [],
   "source": [
    "# insert your code here"
   ]
  },
  {
   "cell_type": "markdown",
   "metadata": {},
   "source": [
    "---"
   ]
  },
  {
   "cell_type": "markdown",
   "metadata": {},
   "source": [
    "##Exercices finaux du chapitre 4"
   ]
  },
  {
   "cell_type": "markdown",
   "metadata": {},
   "source": [
    "Inspiré par *Think Python* de Allen B. Downey (http://thinkpython.com), *Introduction to Programming Using Python* by Y. Liang (Pearson, 2013). Certains de ces exercices sont repris de : http://www.ling.gu.se/~lager/python_exercises.html."
   ]
  },
  {
   "cell_type": "markdown",
   "metadata": {},
   "source": [
    "-  Définissez une phrase et coupez la en plusieurs mots autours des espaces. Maintenant, créez un dictionaire qui comporte les fréquences de chaque mot en valeur pour chaque mots dans la phrase. Vous pourriez d'abord vérifier si un mot est déjà présent dans le dictionnaire. Si il y est, on augment sa fréquence. Sinon, on devrait initialiser sa fréquence."
   ]
  },
  {
   "cell_type": "code",
   "execution_count": null,
   "metadata": {
    "collapsed": false
   },
   "outputs": [],
   "source": [
    "# fill dictionary code"
   ]
  },
  {
   "cell_type": "markdown",
   "metadata": {},
   "source": [
    "-  Depuis le temps, vous savez que Python a une fonction `len()` mais vous pouvez écrire une fonction qui écrit la longueur d'une chaîne `mot_long` que vous définirez ? D'abord utilisez une boucle `for`, puis essayez d'obtenir le même résultat avec `while` mais faites attention de ne pas tomber dans une boucle infinie!"
   ]
  },
  {
   "cell_type": "code",
   "execution_count": null,
   "metadata": {
    "collapsed": false
   },
   "outputs": [],
   "source": [
    "# lengthy word (1) code"
   ]
  },
  {
   "cell_type": "markdown",
   "metadata": {},
   "source": [
    "- Regardez encore une fois la variable `mot_long` que vous avez définie dans l'exercice précédent. Pouvez-vous écrire un script qui remplirait un dictionnaire `frequence_lettres` contenant la fréquence de chaque de chaque lettre de `mot_long` ?"
   ]
  },
  {
   "cell_type": "code",
   "execution_count": null,
   "metadata": {
    "collapsed": false
   },
   "outputs": [],
   "source": [
    "# lengty_word (2) code"
   ]
  },
  {
   "cell_type": "markdown",
   "metadata": {},
   "source": [
    "- Encore une foi, `mot_long`. Pouvez-vous écrire un code qui crée un dictionnaire `prochaine_lettre`, comportant pour chaque première occurence d'une lettre la prochaine lettre d'une mot comme valeur. Si la lettre a déjà été rencontrée, ne faites rien et si vous avez la dernière lettre du mot, ajoutez \"Dernière lettre\" comme valeur du dictionnaire pour cette lettre."
   ]
  },
  {
   "cell_type": "code",
   "execution_count": null,
   "metadata": {
    "collapsed": false
   },
   "outputs": [],
   "source": [
    "# lengthy_word (3) code"
   ]
  },
  {
   "cell_type": "markdown",
   "metadata": {},
   "source": [
    "- Ecrivez un code qui définit une liste d'entiers et qui affiche un histograme sur l'écran. Par exemple, pour  `histogram = [4, 9, 7, 2, 16, 8, 3]`, le code afficherait la suite:\n",
    "\n",
    "++++\n",
    "\n",
    "+++++++++\n",
    "\n",
    "+++++++\n",
    "\n",
    "++\n",
    "\n",
    "++++++++++++++++\n",
    "\n",
    "++++++++\n",
    "\n",
    "+++\n",
    "\n"
   ]
  },
  {
   "cell_type": "code",
   "execution_count": null,
   "metadata": {
    "collapsed": false
   },
   "outputs": [],
   "source": [
    "# histogram"
   ]
  },
  {
   "cell_type": "markdown",
   "metadata": {},
   "source": [
    "- \"99 Bouteilles de Bière\" est une chanson traditionnelle des Etats-Unis et du Canada. C'est une chanson populaire que l'on chante sur de longs voyages, vu qu'elle a un format très répétitif qui la rend facile à mémoriser, et peut prendre un long temps à chanter. Les paroles sont comme suit : \"99 bouteilles de bière sur le mur, 99 bouteilles de bière. Prends-en une, passe la nous, 98 bouteilles de bières sur le mur.\" Le même couplet est répété, avec à chaque fois une bouteille en moins. Cette chanson est complète quand le chanteur ou les chanteurs atteignent zéro. Utilisez une variable integer `compteur` et une boucle `while`. Soyez sûr que votre boucle se terminera et que l'accord du mot bouteille est adapté au compteur !"
   ]
  },
  {
   "cell_type": "code",
   "execution_count": null,
   "metadata": {
    "collapsed": false
   },
   "outputs": [],
   "source": [
    "# bottles of beer"
   ]
  },
  {
   "cell_type": "markdown",
   "metadata": {},
   "source": [
    "- La troisième personne du singuler en anglais est reconnaissable par le suffixe -s, qui est ajouté au steme de la forme infinitive: run -> runs. Une simple règle peut être donnée comme suit: \"Si un mot se finit par y, enlevez le et ajoutez ies. Si le verbe se finit par o, ch, s, sh, x ou z, ajoutez es. Par défaut, ajoutez juste un s.\" Votre devoir est dans cet exercice est, suivant une forme infinitive, afficher la troisième personne. Testez votre fonction avec les mots comme \"try\", \"brush\", \"run\" and \"fix\". Pouvez-vous penser ) un verbe qui ne fonctionnerait pas avec ce code ? Regardez la fonction `.endswith()` en ligne !"
   ]
  },
  {
   "cell_type": "code",
   "execution_count": null,
   "metadata": {
    "collapsed": false
   },
   "outputs": [],
   "source": [
    "# verbs code"
   ]
  },
  {
   "cell_type": "markdown",
   "metadata": {},
   "source": [
    "- ROT13 est une manière d'encoder un message en cryptographie. Le nom nous vient de Jules César, qui l'utilisait pour communiquer avec ses généraux. ROT13 (\"Rotate by 13 places\") est un exemple d'utilisation de cet encodage de César. L'idée est d'augementer la position de chaque mot de l'alphabet par treize. Dans cet exercice, votre mission est d'implémenter cet encodeur/décodeur. Pour cela, vous aurez besoin de créer une liste qui contient chaque \n",
    "The name comes from Julius Caesar, who used it to communicate with his generals. ROT13 (\"rotate by 13 places\") is a widely used example of a Caesar cipher. The idea is to rotate or augment the position of each character in the alphabet with thirteen places. Your task in this exercise is to implement an encoder/decoder of ROT-13. For this, you will need to create a list containing each letter in the (lowercase) roman alphabet as well as the whitespace character. Next, you will have to create an encode_dict and a decode_dict. Once you're done, you will be able to read the following secret message: \"Pnrfne pvcure? V zhpu cersre Pnrfne fnynq!\" (Hint: you can use .index() to retrieve the position of an item in a list!)"
   ]
  },
  {
   "cell_type": "code",
   "execution_count": null,
   "metadata": {
    "collapsed": false
   },
   "outputs": [],
   "source": [
    "# Caesar code"
   ]
  },
  {
   "cell_type": "markdown",
   "metadata": {},
   "source": [
    "---"
   ]
  },
  {
   "cell_type": "markdown",
   "metadata": {},
   "source": [
    "Congrats: you've reached the end of Chapter 4! Ignore the code block below; it's only here to make the page prettier."
   ]
  },
  {
   "cell_type": "code",
   "execution_count": 1,
   "metadata": {
    "collapsed": false
   },
   "outputs": [
    {
     "data": {
      "text/html": [
       "<style>\n",
       "    @font-face {\n",
       "        font-family: \"Computer Modern\";\n",
       "        src: url('http://mirrors.ctan.org/fonts/cm-unicode/fonts/otf/cmunss.otf');\n",
       "    }\n",
       "    div.cell {\n",
       "        width:800px;\n",
       "        margin-left:auto;\n",
       "        margin-right:auto;\n",
       "    }\n",
       "    div.cell, .input.hbox {\n",
       "    display:block;\n",
       "}\n",
       "    h1 {\n",
       "        font-family: \"Charis SIL\", Palatino, serif;\n",
       "    }\n",
       "    h4{\n",
       "        margin-top:12px;\n",
       "        margin-bottom: 3px;\n",
       "       }\n",
       "    div.text_cell_render{\n",
       "        font-family: Computer Modern, \"Helvetica Neue\", Arial, Helvetica, Geneva, sans-serif;\n",
       "        line-height: 145%;\n",
       "        font-size: 120%;\n",
       "        width:800px;\n",
       "        margin-left:auto;\n",
       "        margin-right:auto;\n",
       "    }\n",
       "    .CodeMirror{\n",
       "            font-family: \"Source Code Pro\", source-code-pro,Consolas, monospace;\n",
       "    }\n",
       "    .prompt{\n",
       "        display: None;\n",
       "    }\n",
       "    .text_cell_render h5 {\n",
       "        font-weight: 300;\n",
       "        font-size: 16pt;\n",
       "        color: #4057A1;\n",
       "        font-style: italic;\n",
       "        margin-bottom: .5em;\n",
       "        margin-top: 0.5em;\n",
       "        display: block;\n",
       "    }\n",
       "    \n",
       "    .warning{\n",
       "        color: rgb( 240, 20, 20 )\n",
       "        }\n",
       "\n",
       "    blockquote {\n",
       "    border-left: 4px solid #DDDDDD;\n",
       "    color: #777777;\n",
       "        padding: 0 15px;\n",
       "        }\n",
       "\n",
       "</style>\n",
       "<script>\n",
       "    MathJax.Hub.Config({\n",
       "                        TeX: {\n",
       "                           extensions: [\"AMSmath.js\"]\n",
       "                           },\n",
       "                tex2jax: {\n",
       "                    inlineMath: [ ['$','$'], [\"\\\\(\",\"\\\\)\"] ],\n",
       "                    displayMath: [ ['$$','$$'], [\"\\\\[\",\"\\\\]\"] ]\n",
       "                },\n",
       "                displayAlign: 'center', // Change this to 'center' to center equations.\n",
       "                \"HTML-CSS\": {\n",
       "                    styles: {'.MathJax_Display': {\"margin\": 4}}\n",
       "                }\n",
       "        });\n",
       "</script>"
      ],
      "text/plain": [
       "<IPython.core.display.HTML at 0x108050710>"
      ]
     },
     "execution_count": 1,
     "metadata": {},
     "output_type": "execute_result"
    }
   ],
   "source": [
    "from IPython.core.display import HTML\n",
    "def css_styling():\n",
    "    styles = open(\"styles/custom.css\", \"r\").read()\n",
    "    return HTML(styles)\n",
    "css_styling()"
   ]
  }
 ],
 "metadata": {
  "kernelspec": {
   "display_name": "Python 3",
   "language": "python",
   "name": "python3"
  },
  "language_info": {
   "codemirror_mode": {
    "name": "ipython",
    "version": 3
   },
   "file_extension": ".py",
   "mimetype": "text/x-python",
   "name": "python",
   "nbconvert_exporter": "python",
   "pygments_lexer": "ipython3",
   "version": "3.4.3"
  }
 },
 "nbformat": 4,
 "nbformat_minor": 0
}
