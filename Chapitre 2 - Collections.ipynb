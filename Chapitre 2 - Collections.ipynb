{
 "cells": [
  {
   "cell_type": "markdown",
   "metadata": {},
   "source": [
    "# Chapter 2: Collections"
   ]
  },
  {
   "cell_type": "markdown",
   "metadata": {},
   "source": [
    "-- *A Python Course for the Humanities by Folgert Karsdorp and Maarten van Gompel, with modifications by Mike Kestemont and Lars Wieneke (Trad. Thibault Clérice)* "
   ]
  },
  {
   "cell_type": "markdown",
   "metadata": {},
   "source": [
    "-------------------------------"
   ]
  },
  {
   "cell_type": "markdown",
   "metadata": {},
   "source": [
    "## Listes"
   ]
  },
  {
   "cell_type": "markdown",
   "metadata": {},
   "source": [
    "Soit la phrase suivante:"
   ]
  },
  {
   "cell_type": "code",
   "execution_count": null,
   "metadata": {
    "collapsed": false
   },
   "outputs": [],
   "source": [
    "phrase = \"Le nom du Python est issu de la série télé des Monty Python Flying Circus\""
   ]
  },
  {
   "cell_type": "markdown",
   "metadata": {},
   "source": [
    "Les mots sont faits de lettres, tout comme les chaînes de caractères, comme la chaîne dans la variable `phrase` dans le bloc ci-dessus. Pour la phrase ci-dessus, il semble plus naturel pour un être humain de la définir comme un ensemble de mots plutôt qu'un ensemble de charactères. Et si on voulait accéder au premier mot de notre phrase ? Si on tape :"
   ]
  },
  {
   "cell_type": "code",
   "execution_count": null,
   "metadata": {
    "collapsed": false
   },
   "outputs": [],
   "source": [
    "premier_mot = phrase[0]\n",
    "print(premier_mot)"
   ]
  },
  {
   "cell_type": "markdown",
   "metadata": {},
   "source": [
    "Python nous affichera seulement le premier *caractère* de notre phrase (Prenez le temps d'y si vous ne comprenez pas pourquoi.) On peut transformer cependant notre phrase en une `liste` de mots (représentée par des chaînes) en utilisant la fonction `split()` comme suit :"
   ]
  },
  {
   "cell_type": "code",
   "execution_count": null,
   "metadata": {
    "collapsed": false
   },
   "outputs": [],
   "source": [
    "mots = phrase.split()\n",
    "print(mots)"
   ]
  },
  {
   "cell_type": "markdown",
   "metadata": {},
   "source": [
    "Soyez sûr de comprendre la syntaxe de ce code ! Nous appelons une chose `split()` qui ressemble à une fonction : une fonction fournit un raccourci rapide et utile pour une fonctionnalité que l'on peut utiliser dans notre propre code. Ici, nous appliquons la fonction `split()` à la variable `phrase` et nous assignons le résultat de cette fonction (nous appelons cela la valeur de retour ou `return value` de la fonction) à la nouvelle variable `mots`.\n",
    "\n",
    "Par défaut, la fonction `split` en Python va découper une chaîne sur les espaces et retournera ainsi une suite de mots. Cependant, nous pouvons fournir un argument (un paramètre) à la fonction split qui spécifie exactement ce sur quoi la chaîne doit être découpée. Dans ce bloc de code ci dessous, nous couperons sur les virgules à la place des espaces. Comprenez-vous la syntaxe ?"
   ]
  },
  {
   "cell_type": "code",
   "execution_count": null,
   "metadata": {
    "collapsed": false
   },
   "outputs": [],
   "source": [
    "chainedefruits = \"banane,poire,pomme\"\n",
    "listedefruits = chainedefruits.split(\",\")\n",
    "print(listedefruits)"
   ]
  },
  {
   "cell_type": "markdown",
   "metadata": {},
   "source": [
    "L'inverse de la fonction `split()` peut être réalisé via la fonction `join()`. Cela transforme une liste en une chaîne en utilisant une délimiteur (`delimiter`) spécifique ou chaîne que vous souhaitez utiliser pour joindre vos objets."
   ]
  },
  {
   "cell_type": "code",
   "execution_count": null,
   "metadata": {
    "collapsed": false
   },
   "outputs": [],
   "source": [
    "fruitlist = ['banana', 'pear', 'apple']\n",
    "delimiter = \",\"\n",
    "fruitstring = delimiter.join(fruitlist)\n",
    "print(fruitstring)"
   ]
  },
  {
   "cell_type": "markdown",
   "metadata": {},
   "source": [
    "Ces quatres lignes ci-dessus peuvent être accomplies en une seule ligne. Pouvez-vous trouver comment ? (Indice : remplacer les variables par leurs valeurs)"
   ]
  },
  {
   "cell_type": "code",
   "execution_count": null,
   "metadata": {
    "collapsed": false
   },
   "outputs": [],
   "source": [
    "# insert your oneliner here!"
   ]
  },
  {
   "cell_type": "markdown",
   "metadata": {},
   "source": [
    "---"
   ]
  },
  {
   "cell_type": "markdown",
   "metadata": {},
   "source": [
    "### replace()"
   ]
  },
  {
   "cell_type": "markdown",
   "metadata": {},
   "source": [
    "La fonction `replace()` est une autre fonction qui peut être appelée sur une chaîne. Elle remplacera toutes les occurences d'une sous-chaine avec une autre chaîne. Regardez les lignes de code ci-dessous - et faites attentions à l'ordre dans lequel vous fournissez les arguments à la fonction !"
   ]
  },
  {
   "cell_type": "code",
   "execution_count": null,
   "metadata": {
    "collapsed": false
   },
   "outputs": [],
   "source": [
    "texte = \"On ne peut pas comparer des poires et des bananes\"\n",
    "texte = texte.replace(\"poires\", \"bananes\")\n",
    "texte = texte.replace(\"ne \", \"\")\n",
    "texte = texte.replace(\"pas \", \"\")\n",
    "print(texte)"
   ]
  },
  {
   "cell_type": "markdown",
   "metadata": {},
   "source": [
    "##DIY"
   ]
  },
  {
   "cell_type": "code",
   "execution_count": null,
   "metadata": {
    "collapsed": false
   },
   "outputs": [],
   "source": [
    "text = \"Research has shown that it is often still possible to understand text even if all vowels are removed\"\n",
    "# insert your code here.. I suppose it's obvious what we want you to do ;-)"
   ]
  },
  {
   "cell_type": "markdown",
   "metadata": {},
   "source": [
    "Python a deux fonctions pour changer la casse d'une chaîne. `lower()` renvoie toute la chaîne en minuscule et `upper()` renvoie toute la chaine en majuscule:"
   ]
  },
  {
   "cell_type": "code",
   "execution_count": null,
   "metadata": {
    "collapsed": false
   },
   "outputs": [],
   "source": [
    "ma_chaine = \"QuelquesMajusculs\"\n",
    "print(ma_chaine)\n",
    "ma_chaine_maj = ma_chaine.upper()\n",
    "print(ma_chaine_maj)\n",
    "ma_chaine_min = ma_chaine.lower()\n",
    "print(ma_chaine_min)"
   ]
  },
  {
   "cell_type": "markdown",
   "metadata": {},
   "source": [
    "---"
   ]
  },
  {
   "cell_type": "markdown",
   "metadata": {},
   "source": [
    "##DIY"
   ]
  },
  {
   "cell_type": "markdown",
   "metadata": {},
   "source": [
    "- Pouvez-vous faire votre propre phrase `ma_phrase` et la couper en `mots` avec les espaces ? Afficher cette nouvelle liste de mots.\n",
    "- Vous pouvez reconnaître les fonctions car elles sont toujours suivies de (parenthèses). À part la fonction `split()`, nous avons déjà vu quelques autres fonctions, y compris dans le chapitre précédent. Lesquelles ? Pouvez-vous décrire leur but ? Trouvez-vous des différences en termes de syntaxe quand vous les comparez à `split()` ?\n",
    "- Trouvez-vous une différence entre la longueur de `ma_phrases` et `mots` ? (Utilisez une fonction pour le savoir !)"
   ]
  },
  {
   "cell_type": "code",
   "execution_count": null,
   "metadata": {
    "collapsed": false
   },
   "outputs": [],
   "source": [
    "# your DIY code goes here..."
   ]
  },
  {
   "cell_type": "markdown",
   "metadata": {},
   "source": [
    "De beaucoup de manières, les listes sont très similaires aux chaînes. On peut par exemple accéder à ses composants via des index et de la même manière réaliser des slices/tranches pour accéder à des parties. Allons-y.\n",
    "\n",
    "Ecrivez un petit programme qui définit une variable `premier_mot` et assignez lui le premier mot de la liste de mots `mots`. Faites la même chose pour le cinquième mot, le dernier et l'avant-dernier. Essayez aussi d'extraire une tranche de mots entre `dérivé` et `Flying`  non compris. Après, faites une tranche de mots qui est identique au nom de la série tv."
   ]
  },
  {
   "cell_type": "code",
   "execution_count": null,
   "metadata": {
    "collapsed": false
   },
   "outputs": [],
   "source": [
    "# insert your code here\n",
    "phrase = \"Le nom du Python est issu de la série télé des Monty Python Flying Circus\""
   ]
  },
  {
   "cell_type": "markdown",
   "metadata": {},
   "source": [
    "Une `list` agit comme une sorte de conteneur dans lequel on peut stocker tout type d'information. On peut accéder à une liste en utilisant des index et des tranches. On peut aussi ajouter de nouveaux objets à une liste. Pour cela on peut utiliser la fonction `append()`. Voyons comment cela marche. Soit une liste avec tous les livres que nous avons appréciés. D'abord on déclare une liste vide en utilisant des crochets `[]`. Ensuite, on y ajoute les livres qu'on aime."
   ]
  },
  {
   "cell_type": "code",
   "execution_count": null,
   "metadata": {
    "collapsed": false
   },
   "outputs": [],
   "source": [
    "# start with an empty list\n",
    "livres_favoris = []\n",
    "livres_favoris.append(\"Les Amis Inconnus\")\n",
    "print(livres_favoris)\n",
    "livres_favoris.append(\"Les Mains Sales\")\n",
    "print(livres_favoris)"
   ]
  },
  {
   "cell_type": "markdown",
   "metadata": {},
   "source": [
    "Avez-vous compris la syntaxe qui va avec la fonction `append()` ? La liste à laquelle on souhaite ajouter un élément arrive en premier, puis on joint la fonction `append()` via un point `.`. Entre les parenthèses de la fonction , on met une chaîne que l'on souhaite ajouter à la liste. On appelle donc cela un 'argument' ou un 'paramètre' que l'on fournit (*pass*) à la fonction. Ensuite, la fonction returne une valeur de retour. Soyez sûr d'être familier avec cette terminologie car vous les retrouverez très souvent en cherchant de l'aide en ligne !\n",
    "\n",
    "Maintenant, si, par exemple, nous n'apprécions plus vraiment un certain live, on peut le changer comme suit en utilisant l'index de l'ancien livre :"
   ]
  },
  {
   "cell_type": "code",
   "execution_count": null,
   "metadata": {
    "collapsed": false
   },
   "outputs": [],
   "source": [
    "livres_favoris[0] = \"Nekrassov\"\n",
    "print(livres_favoris)"
   ]
  },
  {
   "cell_type": "markdown",
   "metadata": {},
   "source": [
    "Comme vous pouvez le voir, ce n'est pas un problème de mettre à jour un élément particulier d'une liste. Cela est pourtant différent pour les chaînes. Exécuter le code qui suit dans lequel on essayer de changer un caractère spécifique d'une chaine. Cela se résolvera en erreur: l'ordinateur nous informe que quelque chose ne va pas. C'est simplement parce que les chaînes (et certains autres types) sont des `immutables`. Cela signifie qu'ils ne peuvent pas être changés en utilisant les index, contrairements aux listes qui elles sont `mutable`"
   ]
  },
  {
   "cell_type": "code",
   "execution_count": null,
   "metadata": {
    "collapsed": false
   },
   "outputs": [],
   "source": [
    "nom = \"Bonny\"\n",
    "print(nom)\n",
    "liste_car = list(nom)\n",
    "print(liste_car)\n",
    "liste_car[3] = \"t\"\n",
    "print(liste_car)\n",
    "delimiteur = \"\"\n",
    "print(delimiteur.join(liste_car))"
   ]
  },
  {
   "cell_type": "markdown",
   "metadata": {},
   "source": [
    "##DYI"
   ]
  },
  {
   "cell_type": "markdown",
   "metadata": {},
   "source": [
    "Voilà de nouveau un petit exercice ! Ajoutez deux titres à cette liste de `livres_favoris`. Puis, essayez de changer le second livre de cette collection:"
   ]
  },
  {
   "cell_type": "code",
   "execution_count": null,
   "metadata": {
    "collapsed": false
   },
   "outputs": [],
   "source": [
    "# insert your code here"
   ]
  },
  {
   "cell_type": "markdown",
   "metadata": {},
   "source": [
    "Les listes sont un moyen très puissant de gérer des données en Python. Explorons les autres méthodes avec lesquelles on peut manipuler des listes."
   ]
  },
  {
   "cell_type": "markdown",
   "metadata": {},
   "source": [
    "#### remove()"
   ]
  },
  {
   "cell_type": "markdown",
   "metadata": {},
   "source": [
    "Assumons que notre liste de favoris a beaucoup grossi et que l'on veut supprimer certains livres de cette liste. Python nous fournit la fonction `remove()` que vous pouvez appeler sur une liste et lui donner comme argument l'élément que vous souhaitez supprimer."
   ]
  },
  {
   "cell_type": "code",
   "execution_count": null,
   "metadata": {
    "collapsed": false
   },
   "outputs": [],
   "source": [
    "good_reads = [\"The Hunger games\", \"A Clockwork Orange\", \n",
    "             \"Pride and Prejudice\", \"Water for Elephants\", \"Illias\"]\n",
    "print(good_reads)\n",
    "good_reads.remove(\"Water for Elephants\")\n",
    "print(good_reads)"
   ]
  },
  {
   "cell_type": "markdown",
   "metadata": {},
   "source": [
    "Si l'on essaye de supprimer un livre qui n'est pas dans notre collection, Python générera une erreur qui nous signale qu'il y a eu un problème."
   ]
  },
  {
   "cell_type": "code",
   "execution_count": null,
   "metadata": {
    "collapsed": false
   },
   "outputs": [],
   "source": [
    "good_reads.remove(\"White Oleander\")"
   ]
  },
  {
   "cell_type": "markdown",
   "metadata": {},
   "source": [
    "Notez cependant que `remove()` peut seulement supprimer le premier élément de la liste identique à notre argument passé à la fonction. Exécutez le code ci-dessous et vous verrez que seulement la première instance de \"Pride and Prejudice\" est supprimée."
   ]
  },
  {
   "cell_type": "code",
   "execution_count": null,
   "metadata": {
    "collapsed": false
   },
   "outputs": [],
   "source": [
    "good_reads = [\"The Hunger games\", \"A Clockwork Orange\", \n",
    "             \"Pride and Prejudice\", \"Water for Elephants\", \"Pride and Prejudice\"]\n",
    "good_reads.remove(\"Pride and Prejudice\")\n",
    "print(good_reads)"
   ]
  },
  {
   "cell_type": "markdown",
   "metadata": {},
   "source": [
    "Tout comme les chaînes, on peut concaténer deux listes en utilisant l'opérateur `+`. Voilà un exemple:"
   ]
  },
  {
   "cell_type": "code",
   "execution_count": null,
   "metadata": {
    "collapsed": false
   },
   "outputs": [],
   "source": [
    "# D'abord on spécifie deux listes\n",
    "good_reads = [\"The Hunger games\", \"A Clockwork Orange\", \n",
    "              \"Pride and Prejudice\", \"Water for Elephants\",\n",
    "              \"The Shadow of the Wind\", \"Bel Canto\"]\n",
    "bad_reads = [\"Fifty Shades of Grey\", \"Twilight\"]\n",
    "\n",
    "# puis on les combine\n",
    "all_reads = good_reads + bad_reads\n",
    "print(all_reads)"
   ]
  },
  {
   "cell_type": "markdown",
   "metadata": {},
   "source": [
    "#### sort()"
   ]
  },
  {
   "cell_type": "markdown",
   "metadata": {},
   "source": [
    "C'est toujours sympa de pouvoir organiser une étagère. Nous pouvons ainsi ordonner alphabétiquement notre liste avec l'expression suivante :"
   ]
  },
  {
   "cell_type": "code",
   "execution_count": null,
   "metadata": {
    "collapsed": false
   },
   "outputs": [],
   "source": [
    "good_reads.sort()\n",
    "print(good_reads)"
   ]
  },
  {
   "cell_type": "markdown",
   "metadata": {},
   "source": [
    "#### listes imbriquées"
   ]
  },
  {
   "cell_type": "markdown",
   "metadata": {},
   "source": [
    "Jusque là nos listes étaient formées de chaînes. Cependant, une liste peut contenir n'importe quel type de données, comme des integers mais aussi des listes. Comprenez-vous ce qui arrive dans l'exemple suivant ? Regardez bien de quelle manière sont utilisés les crochets."
   ]
  },
  {
   "cell_type": "code",
   "execution_count": null,
   "metadata": {
    "collapsed": false
   },
   "outputs": [],
   "source": [
    "liste_imbriquee = [[1, 2, 3, 4], [5, 6, 7, 8]]\n",
    "print(liste_imbriquee[0])\n",
    "print(liste_imbriquee[0][0])\n",
    "print(liste_imbriquee[1][2])\n",
    "print(liste_imbriquee[0][:-2])"
   ]
  },
  {
   "cell_type": "markdown",
   "metadata": {},
   "source": [
    "On peut utiliser ça pour améliorer notre collection de livres favoris avec une note pour chaque livre que nous avons. Une entrée dans notre collection consiste à une note entre `1` et `10` et le titre de notre livre. Le premier élément est le titre; le second la note `[titre, note]`. On initialise une liste vide :"
   ]
  },
  {
   "cell_type": "code",
   "execution_count": null,
   "metadata": {
    "collapsed": false
   },
   "outputs": [],
   "source": [
    "livres_favoris = []"
   ]
  },
  {
   "cell_type": "markdown",
   "metadata": {},
   "source": [
    "On y rajoute deux livres"
   ]
  },
  {
   "cell_type": "code",
   "execution_count": null,
   "metadata": {
    "collapsed": false
   },
   "outputs": [],
   "source": [
    "livres_favoris.append([\"Les Mains Sales\", 9])\n",
    "livres_favoris.append([\"Nekrassov\", 8])"
   ]
  },
  {
   "cell_type": "markdown",
   "metadata": {},
   "source": [
    "##DIY"
   ]
  },
  {
   "cell_type": "markdown",
   "metadata": {},
   "source": [
    "Mettez à jour la collection `livres_favoris` avec certains de vos propres livres et donnez leur une note ainsi qu'une date de publication en utilisant les listes imbriquées. Pouvez-vous afficher la note que vous avez donnée au premier livre de la liste ? Et la date de publication du troisième élément de votre liste ? (Indice : vous pouvez se faire enchaîner des indicateurs d'index en utilisant les crochets !)"
   ]
  },
  {
   "cell_type": "code",
   "execution_count": null,
   "metadata": {
    "collapsed": false
   },
   "outputs": [],
   "source": [
    "# insert your code here"
   ]
  },
  {
   "cell_type": "markdown",
   "metadata": {},
   "source": [
    "#####  Ce que nous avons appris"
   ]
  },
  {
   "cell_type": "markdown",
   "metadata": {},
   "source": [
    "Pour finir cette section, voilà ce que vous avez appris. Regardez cette liste et soyez sûr que vous compreniez tous ces concepts.\n",
    "\n",
    "-  les listes\n",
    "-  les listes imbriquées\n",
    "-  *mutable* vs. *immutable*\n",
    "-  `.split()` vs. `.join()`\n",
    "-  `.append()`\n",
    "-  `.remove()`\n",
    "-  `.sort()`\n",
    "-  `.upper()` vs. `.lower()`"
   ]
  },
  {
   "cell_type": "markdown",
   "metadata": {},
   "source": [
    "-------------"
   ]
  },
  {
   "cell_type": "markdown",
   "metadata": {},
   "source": [
    "## Dictonnaires"
   ]
  },
  {
   "cell_type": "markdown",
   "metadata": {},
   "source": [
    "Notre petite collection de livres favoris commence à être impressionnante et l'on peut faire tout type de manipulation dessus. Maintenant, imaginons que notre liste est large et que nous voulons avoir le score d'un livre en particulier. Comment allons nous trouver ce livre ? Dans ce genre de cas, Python fournit une structure de donnée plus appropriée appellée dictionnaire ou `dictionary` (`dict`). Un dictionnaire est similaire aux dictionnaires que vous avez à la maison. Il consiste en un ensemble d'entrées, ou clefs, qui contiennent une valeur. Définissons en un :"
   ]
  },
  {
   "cell_type": "code",
   "execution_count": null,
   "metadata": {
    "collapsed": false
   },
   "outputs": [],
   "source": [
    "mon_dict = {\"book\": \"physical objects consisting of a number of pages bound together\",\n",
    "           \"sword\": \"a cutting or thrusting weapon that has a long metal blade\",\n",
    "           \"pie\": \"dish baked in pastry-lined pan often with a pastry top\"}"
   ]
  },
  {
   "cell_type": "markdown",
   "metadata": {},
   "source": [
    "Regardez bien cette nouvelle syntaxe. Faites attention aux accolades et deux-points (en anglais, `curly brackets` et `colons`). Pour obtenir la valeur pour une certaine clef, on indexe ce dictionnaire à partir de cette clef (et encore une fois, via des crochets):"
   ]
  },
  {
   "cell_type": "code",
   "execution_count": null,
   "metadata": {
    "collapsed": false
   },
   "outputs": [],
   "source": [
    "description = mon_dict[\"sword\"]\n",
    "print(description)"
   ]
  },
  {
   "cell_type": "markdown",
   "metadata": {},
   "source": [
    "Tout comme les listes, les dictionnaires sont *mutables* ce qui signifie que vous pouvez ajouter et supprimer des des entrées. Définissons un dictionnaire vide et ajoutons-y des quelques livres. Les titres serons nos clefs et les scores leur valeur. Regardez la syntaxe pour ajouter une nouvelle entrée:"
   ]
  },
  {
   "cell_type": "code",
   "execution_count": null,
   "metadata": {
    "collapsed": false
   },
   "outputs": [],
   "source": [
    "livres_favoris = {}\n",
    "livres_favoris[\"Pride and Prejudice\"] = 8\n",
    "livres_favoris[\"A Clockwork Orange\"] = 9\n",
    "print(livres_favoris[\"Pride and Prejudice\"])"
   ]
  },
  {
   "cell_type": "markdown",
   "metadata": {},
   "source": [
    "D'une certaine manière, c'est similaire à ce que nous avons vu avant quand nous changions notre liste de livres. Pour celle-là, nous indexions la liste en utilisant un entier pour accéder à un livre particulier. Ici nous utilisons directement le titre du livre. Notez que ces clefs dans un dictionnaire doivent être uniques : pourquoi ?"
   ]
  },
  {
   "cell_type": "markdown",
   "metadata": {},
   "source": [
    "##DIY"
   ]
  },
  {
   "cell_type": "markdown",
   "metadata": {},
   "source": [
    "Mettez à jour la collection avec vos propres livres (`mes_livres`). Essayez d'afficher le score d'un de vos livres favoris ajoutés précédemment."
   ]
  },
  {
   "cell_type": "code",
   "execution_count": null,
   "metadata": {
    "collapsed": false
   },
   "outputs": [],
   "source": [
    "# put your code here"
   ]
  },
  {
   "cell_type": "markdown",
   "metadata": {},
   "source": [
    "#### keys(), values()"
   ]
  },
  {
   "cell_type": "markdown",
   "metadata": {},
   "source": [
    "Pour retrouver une liste de tous vos livres, on peut demander au dictionnaire de nous retourner toutes ses clefs en une liste :"
   ]
  },
  {
   "cell_type": "code",
   "execution_count": null,
   "metadata": {
    "collapsed": false
   },
   "outputs": [],
   "source": [
    "print(mes_livres.keys())"
   ]
  },
  {
   "cell_type": "markdown",
   "metadata": {},
   "source": [
    "On peut faire la même chose avec les valeurs !"
   ]
  },
  {
   "cell_type": "code",
   "execution_count": null,
   "metadata": {
    "collapsed": false
   },
   "outputs": [],
   "source": [
    "print(mes_livres.values())"
   ]
  },
  {
   "cell_type": "markdown",
   "metadata": {},
   "source": [
    "##### Ce que nous avons appris"
   ]
  },
  {
   "cell_type": "markdown",
   "metadata": {},
   "source": [
    "Pour finir cette section, voilà ce que vous avez appris. Regardez cette liste et soyez sûr que vous compreniez tous ces concepts.\n",
    "\n",
    "-  les dictionnaires\n",
    "-  indexer les dictionnaire et accéder à leurs valeurs via des index.\n",
    "-  ajouter un élément à un dictionnaire\n",
    "-  `.keys()`\n",
    "-  `.values()`\n",
    "\n",
    "------------------------------------"
   ]
  },
  {
   "cell_type": "markdown",
   "metadata": {},
   "source": [
    "##Final Exercises Chapter 2"
   ]
  },
  {
   "cell_type": "markdown",
   "metadata": {},
   "source": [
    "Inspiré par *Think Python* de Allen B. Downey (http://thinkpython.com), *Introduction to Programming Using Python* by Y. Liang (Pearson, 2013). Certains de ces exercices sont repris de : http://www.ling.gu.se/~lager/python_exercises.html."
   ]
  },
  {
   "cell_type": "markdown",
   "metadata": {},
   "source": [
    "- Ex. 1: Soient les chaînes suivantes `sentence1 = \"Mike and Lars kick the bucket\"` et `sentence2 = \"Bonny and Clyde are really famous\"`. Coupez ces phrases en mots et créez les chaînes suivantes via les manipulations de liste: `sentence3 = \"Mike and Lars are really famous\"` and `sentence4=\"Bonny+and+Clyde+kick+the+bucket\"` (faites attention au signe plus!). Pouvez-vous afficher la lettre du milieu de la quatrième phrase ?"
   ]
  },
  {
   "cell_type": "code",
   "execution_count": null,
   "metadata": {
    "collapsed": false
   },
   "outputs": [],
   "source": [
    "# sentences"
   ]
  },
  {
   "cell_type": "markdown",
   "metadata": {},
   "source": [
    "-  Ex. 2: En considérant le dictionnaire `lookup` ci-dessous. Les lettres suivantes manquent encore: 'k':'kilo', 'l':'lima', 'm':'mike'. Ajoutez les à `lookup`! Pourriez-vous épeler le mort \"merveilleux\" dans ce langage codé désormais? Collectez ces codes dans une liste `msg`. Puis, liez les éléments ensemble avec une virgule et affichez le résultat !\n",
    "\n",
    "> lookup = {'a':'alfa', 'b':'bravo', 'c':'charlie', 'd':'delta', 'e':'echo', 'f':'foxtrot', 'g':'golf', 'h':'hotel', 'i':'india', 'j':'juliett', 'n':'november', 'o':'oscar', 'p':'papa', 'q':'quebec', 'r':'romeo', 's':'sierra', 't':'tango', 'u':'uniform', 'v':'victor', 'w':'whiskey', 'x':'x-ray', 'y':'yankee', 'z':'zulu'}\n"
   ]
  },
  {
   "cell_type": "code",
   "execution_count": null,
   "metadata": {
    "collapsed": false
   },
   "outputs": [],
   "source": [
    "# lookup code"
   ]
  },
  {
   "cell_type": "markdown",
   "metadata": {},
   "source": [
    "-  Ex. 3: Collectez les codes dans le dictionnaire `lookup` (`alpha`, `bravo`, ...) de l'exercice précédent dans une liste appelée `code_words`. Cette liste est-elle dans l'ordre alphabétique ? Non ? Alors, faites en sorte qu'elle le soit ! Supprimez maintenant les éléments `victor`, `india` et `papa`. Ajoutez les mots `pigeon` et `potato` à la fin de la liste. Combinez cette nouvelle liste dans une seule chaîne, utilisant un point-virgule comme délimiteur puis affichez cette chaîne. "
   ]
  },
  {
   "cell_type": "code",
   "execution_count": null,
   "metadata": {
    "collapsed": false
   },
   "outputs": [],
   "source": [
    "# follow-up lookup code"
   ]
  },
  {
   "cell_type": "markdown",
   "metadata": {},
   "source": [
    "-----------------------------------------------------------------\n",
    "\n",
    "C'est la fin du chapitre 2 ! Ne faites pas attention à ce qui suit, c'est juste pour rendre la page jolie !"
   ]
  },
  {
   "cell_type": "code",
   "execution_count": null,
   "metadata": {
    "collapsed": false
   },
   "outputs": [],
   "source": [
    "from IPython.core.display import HTML\n",
    "def css_styling():\n",
    "    styles = open(\"styles/custom.css\", \"r\").read()\n",
    "    return HTML(styles)\n",
    "css_styling()"
   ]
  }
 ],
 "metadata": {
  "kernelspec": {
   "display_name": "Python 3",
   "language": "python",
   "name": "python3"
  },
  "language_info": {
   "codemirror_mode": {
    "name": "ipython",
    "version": 3
   },
   "file_extension": ".py",
   "mimetype": "text/x-python",
   "name": "python",
   "nbconvert_exporter": "python",
   "pygments_lexer": "ipython3",
   "version": "3.4.3"
  }
 },
 "nbformat": 4,
 "nbformat_minor": 0
}
