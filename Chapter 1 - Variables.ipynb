{
 "cells": [
  {
   "cell_type": "markdown",
   "metadata": {},
   "source": [
    "# Chapitre 1: Variables"
   ]
  },
  {
   "cell_type": "markdown",
   "metadata": {},
   "source": [
    "-- *A Python Course for the Humanities by Folgert Karsdorp and Maarten van Gompel, with modifications by Mike Kestemont and Lars Wieneke*\n",
    "-- Traduction en Français: Thibault Clérice"
   ]
  },
  {
   "cell_type": "markdown",
   "metadata": {},
   "source": [
    "-------------------------------"
   ]
  },
  {
   "cell_type": "markdown",
   "metadata": {},
   "source": [
    "## Premiers Pas"
   ]
  },
  {
   "cell_type": "markdown",
   "metadata": {},
   "source": [
    "Toute personne peut apprendre à programmer et le meilleur moyen de l'apprendre c'est de le pratique. Ce tutoriel sur le python pour les humanités est particulièrement centré sur la pratique: vous aurez à écrire un bon nombre de lignes de code par vous-même du début à la fin. Pour écrire du Python dans ce tutoriel, vous pouvez utiliser les \"blocs de code\" que vous rencontrerez : en voici un ci-dessous. Placez votre curseur dans ce bloc et pressez `ctrl+entrée` pour \"lancer\" ou exécuter le code. Commençons dès maintenant : exécutez votre premier petit programme !"
   ]
  },
  {
   "cell_type": "code",
   "execution_count": 1,
   "metadata": {
    "collapsed": false
   },
   "outputs": [
    {
     "name": "stdout",
     "output_type": "stream",
     "text": [
      "Mike\n"
     ]
    }
   ],
   "source": [
    "print(\"Mike\")"
   ]
  },
  {
   "cell_type": "markdown",
   "metadata": {},
   "source": [
    "* Pouvez vous décrire ce que le code a fait ?\n",
    "* Pouvez vous adapter ce code afin qu'il affiche votre nom ?\n",
    "\n",
    "En dehors de l'affichage de mots, Python peut aussi réaliser des calculs.\n",
    "\n",
    "* Utilisez le bloc de code ci-dessous pour calculer combien de minutes il y a dans 7 semaines (A propos : la multiplication est réalisée à travers le symbole `*` en python.)"
   ]
  },
  {
   "cell_type": "code",
   "execution_count": null,
   "metadata": {
    "collapsed": false
   },
   "outputs": [],
   "source": [
    "# Insérez votre propre code ici !\n",
    "60*24*7*7"
   ]
  },
  {
   "cell_type": "markdown",
   "metadata": {},
   "source": [
    "Excellent ! Vous venez d'écrire et d'exécuter votre premier programme. Faites attention à *exécuter chacun* des prochains blocs de code de la même manière, ou alors un grand nombre d'exemples ne fonctionnera pas.\n",
    "\n",
    "Jusqu'ici, nous n'avons utilisé python que comme d'une calculette minimaliste, mais il y a plus à découvrir. \n",
    "\n",
    "## Variables et valeurs\n",
    "Imaginez que vous vouliez enregistrer un nombre afin de pouvoir le réutiliser plus tard. Pour faire cela, nous devons \"assigner\" un nom à cette valeur via le symbole `=`"
   ]
  },
  {
   "cell_type": "code",
   "execution_count": null,
   "metadata": {
    "collapsed": false
   },
   "outputs": [],
   "source": [
    "x = 5\n",
    "print(x)"
   ]
  },
  {
   "cell_type": "markdown",
   "metadata": {},
   "source": [
    "Si vous vous souvenez vaguement de vos leçons de maths à l'école, cela devrait vous sembler familier. C'est exactement la même notation avec la variable sur la gauche, la valeur sur la droite et le signe = au milieu.\n",
    "\n",
    "Dans le bloc de code ci-dessus, deux choses se passent. D'abord, nous assignons une valeur à `x`, ici `2`. Cette variable x se comporte de la même manière qu'une boîte sur laquelle on aurait écrit au gros feutre noir un `x` pour pouvoir la retrouver plus tard. Ensuite, on affiche le contenu de cette boite via la commande `print()`.\n",
    "\n",
    "* Désormais, copiez le résultat de votre code calculant le nombre de minutes dans 7 semaines et assignez ce nombre à `x`. Exécutez le code encore.\n",
    "\n",
    "La métaphore de la boîte pour une variable est plus que valable : vous pouvez assigner dans une telle boîte la veleur que vous voulez, ex: le nombre de minutes dans 7 semaines. Quand vous ré-assignez une valeur à une variable, vous enlevez le contenu de la boite et vous mettez une nouvelle chose à l'intérieur. En python, le terme variable se réfère à une telle boîte alors que valeur correspond à ce que ces boîtes contiennent."
   ]
  },
  {
   "cell_type": "markdown",
   "metadata": {},
   "source": [
    "Lorsque nous avons stocké des valeurs à l'intérieur des variables, nous pouvons faire des choses intéressantes avec celles-ci. Vous pouvez par exemple exécutez les calculs des blocs disponibles ci-dessous pour voir l'effet de ces cinq lignes  de code. Les symboles comme `=`, `+`, `-` et `*` sont appelés des opérateurs (ou *operators* en anglais) en programmation : ils fournissent les fonctionnalités de bases comme celles de l'assignement de valeur à des variables ou des multiplications et soustractions."
   ]
  },
  {
   "cell_type": "code",
   "execution_count": null,
   "metadata": {
    "collapsed": true
   },
   "outputs": [],
   "source": [
    "x = 2\n",
    "print(x)\n",
    "print(x * x)\n",
    "print(x + x)\n",
    "print(x - 6)"
   ]
  },
  {
   "cell_type": "markdown",
   "metadata": {},
   "source": [
    "Jusqu'ici, nous avons seulement utiliser une variable `x`. Cependant, nous sommes totalement libre de changer le nom de nos variables, tant que ces noms ne comportent pas de caractères bizarres comme des espaces, des nombres ou des signes de ponctuations (Les blancs souglinés `_` cependant sont autorisés !). Dans le bloc suivant, nous assignons le résultat de notre calcul à une variable qui a un nom plus significatif que l'abstrait `x`."
   ]
  },
  {
   "cell_type": "code",
   "execution_count": null,
   "metadata": {
    "collapsed": false
   },
   "outputs": [],
   "source": [
    "secondes_en_sept_semaines = 70560\n",
    "print(secondes_en_sept_semaines)"
   ]
  },
  {
   "cell_type": "markdown",
   "metadata": {},
   "source": [
    "En Python, on peut aussi copier le contenu d'une variable *dans une autre variable*, ce qui arrive dans le bloc ci-dessous. Vous devrez bien sûr faire attention dans ce genre de situation et vous assurer de toujours garder en tête les  valeurs attribuées à chaque variable. Chaque variable contient la dernière valeur que vous lui avez assigné !"
   ]
  },
  {
   "cell_type": "code",
   "execution_count": null,
   "metadata": {
    "collapsed": false
   },
   "outputs": [],
   "source": [
    "premier_chiffre = 5\n",
    "deuxieme_chiffre = premier_chiffre\n",
    "premier_chiffre = 3\n",
    "print(premier_chiffre)\n",
    "print(deuxieme_chiffre)"
   ]
  },
  {
   "cell_type": "markdown",
   "metadata": {},
   "source": [
    "Souvenez-vous : comme les boîtes dans la vraie vie, c'est toujours une bonne idée de donner des noms clairs et courts avec votre marqueur noir, le nom devant renvoyer clairement à ce que contient la boîte. De la même manière, n'écrivant pas `cookie` sur une boîte qui contient des bananes, il est important de donner en Python des noms expressifs à vos variables. Dans le bloc de code ci-dessous, par exemple, nous avons fait l'erreur stupid de nommer une variable `mois` alors qu'elle contient des `secondes`"
   ]
  },
  {
   "cell_type": "code",
   "execution_count": null,
   "metadata": {
    "collapsed": false
   },
   "outputs": [],
   "source": [
    "# not recommended...\n",
    "mois = 70560\n",
    "print(mois)"
   ]
  },
  {
   "cell_type": "markdown",
   "metadata": {},
   "source": [
    "Les variables sont aussi sensibles à la casse, appeler *mois* n'est pas la même chose que *Mois*"
   ]
  },
  {
   "cell_type": "code",
   "execution_count": null,
   "metadata": {
    "collapsed": false
   },
   "outputs": [],
   "source": [
    "print(mois)"
   ]
  },
  {
   "cell_type": "code",
   "execution_count": null,
   "metadata": {
    "collapsed": false
   },
   "outputs": [],
   "source": [
    "print(Mois)"
   ]
  },
  {
   "cell_type": "markdown",
   "metadata": {},
   "source": [
    "Jusqu'ici nous avons seulement assigné des nombres tels que `2` ou `70560` à nos variables. Ces nombres entiers sont appelés entiers ou `integers` en anglais. Les nombres qui ont un point (équivalent en France de la virgule) tels que `67.278` ou `191.200` sont des nombres décimaux ou `float` en anglais de programmation. Les `integers` et les `floats` peuvent être des nombres positifs ou négatifs. L'assignation d'un float à une variable est aussi simple que pour un `integers`:"
   ]
  },
  {
   "cell_type": "code",
   "execution_count": null,
   "metadata": {
    "collapsed": false
   },
   "outputs": [],
   "source": [
    "un_float = 23.987\n",
    "print(un_float)\n",
    "un_float = -4.56\n",
    "print(un_float)"
   ]
  },
  {
   "cell_type": "markdown",
   "metadata": {},
   "source": [
    "En général, la différence entre integers et float est surtout important quand une division se finit en float :"
   ]
  },
  {
   "cell_type": "code",
   "execution_count": null,
   "metadata": {
    "collapsed": false
   },
   "outputs": [],
   "source": [
    "x = 5/2\n",
    "print(x)"
   ]
  },
  {
   "cell_type": "markdown",
   "metadata": {},
   "source": [
    "Vous vous souviendrez sans doute de vos cours de maths que ce qui est appelé la priorité des opérations. Par exemple, la multiplication sera toujours effectué avant une soustraction. En python tout comme en arithmétique, vous pouvez gérer cela via des parenthèses. Regardez les lignes qui suivent :"
   ]
  },
  {
   "cell_type": "code",
   "execution_count": null,
   "metadata": {
    "collapsed": false
   },
   "outputs": [],
   "source": [
    "nr1 = 10-2/4\n",
    "nr2 = (10-2)/4\n",
    "nr3 = 10-(2/4)\n",
    "print(nr1)\n",
    "print(nr2)\n",
    "print(nr3)"
   ]
  },
  {
   "cell_type": "markdown",
   "metadata": {},
   "source": [
    "En utilisant les opérateurs dont nous avons fait connaissance, nous pouvons changer les variables dans notre code autant que nous le voulons. Nous pouvons assigner de nouvelles valeurs à d'anciennes variables, de la même manière que nous pouvons mettre de nouvelles ou plus de choses dans les boîtes que nous avons. Par exemple, disons qu'hier nous avions compté combien de livre nous avions dans nos bureaux et que vous avons enregistré cette informations dans notre code de la manière suivante :"
   ]
  },
  {
   "cell_type": "code",
   "execution_count": null,
   "metadata": {
    "collapsed": false
   },
   "outputs": [],
   "source": [
    "nombre_de_livres = 100"
   ]
  },
  {
   "cell_type": "markdown",
   "metadata": {},
   "source": [
    "Supposez que nous avons reçu une nouveau livre aujourd'hui : nous pouvons désormais mettre à jour notre nombre de livre, en ajoutant un à notre ancienne variable."
   ]
  },
  {
   "cell_type": "code",
   "execution_count": null,
   "metadata": {
    "collapsed": false
   },
   "outputs": [],
   "source": [
    "nombre_de_livres = nombre_de_livres + 1\n",
    "print(nombre_de_livres)"
   ]
  },
  {
   "cell_type": "markdown",
   "metadata": {},
   "source": [
    "Des mises à jour telles que celles-ci arrivent souvent. Python nous donne un raccourci, nous pouvons faire la même chose avec `+=`."
   ]
  },
  {
   "cell_type": "code",
   "execution_count": null,
   "metadata": {
    "collapsed": false
   },
   "outputs": [],
   "source": [
    "nombre_de_livres += 5\n",
    "print(nombre_de_livres)"
   ]
  },
  {
   "cell_type": "markdown",
   "metadata": {},
   "source": [
    "Ce raccourci spécial (\n",
    "Ce raccourci spécial (`+=`) est aussi appelé un opérateur. En dehors de l'addition (`+=`), cet opérateur a aussi un équivalent pour les soustractions (`-=`), multiplications (`*=`) et divisons (`/=`) :"
   ]
  },
  {
   "cell_type": "code",
   "execution_count": null,
   "metadata": {
    "collapsed": false
   },
   "outputs": [],
   "source": [
    "nombre_de_livres -= 5\n",
    "print(nombre_de_livres)\n",
    "nombre_de_livres *= 2\n",
    "print(nombre_de_livres)\n",
    "nombre_de_livres /= 2\n",
    "print(nombre_de_livres)"
   ]
  },
  {
   "cell_type": "markdown",
   "metadata": {},
   "source": [
    "----------"
   ]
  },
  {
   "cell_type": "markdown",
   "metadata": {},
   "source": [
    "##### Ce que nous avons appris"
   ]
  },
  {
   "cell_type": "markdown",
   "metadata": {},
   "source": [
    "Pour finir cette section, voilà ce que vous avez appris. Regardez cette liste et soyez sûr que vous compreniez tous ces concepts.\n",
    "\n",
    "-  variable\n",
    "-  valeur\n",
    "-  opérateur d'assignement (`=`)\n",
    "-  diffeérence entre variables et valeurs\n",
    "-  integers vs. floats\n",
    "-  opérateurs de multiplication (`*`), soustraction (`-`), addition (`+`), division (`/`)\n",
    "-  les opérateurs raccourcis: `+=`, `-=`, `*=`, `/=`\n",
    "-  `print()`\n"
   ]
  },
  {
   "cell_type": "markdown",
   "metadata": {},
   "source": [
    "------"
   ]
  },
  {
   "cell_type": "markdown",
   "metadata": {},
   "source": [
    "## Les chaînes de caractères"
   ]
  },
  {
   "cell_type": "markdown",
   "metadata": {},
   "source": [
    "Jusqu'ici, nous avons juste travaillé avec des variables qui contiennent des nombres (integers comme `-5` ou `72` ou floats comme `45.89` ou `-5.609`). Cependant, notez aue ces variables peuvent contenir bien d'autres choses que des nombres. Beaucoup de disciplines dans les humanités travaillent sur des textes. Bien naturellement, les compétences de programmation pour les humanités se focaliseront sur la manipulation de textes. Jetez un coup d'oeil au bloc de code ci-dessous par exemple. Ici, nous mettons du *texte*, le titre d'un livre, comme la valeur de la variable de `book`. Nous affichons ensuite ce qui est à l'intérieur de cette variable."
   ]
  },
  {
   "cell_type": "code",
   "execution_count": null,
   "metadata": {
    "collapsed": false
   },
   "outputs": [],
   "source": [
    "livre = \"Les Amis Inconnus\"\n",
    "print(livre)"
   ]
  },
  {
   "cell_type": "markdown",
   "metadata": {},
   "source": [
    "Un tel morceau de texte (\"Les Amis Inconnus\") est appelé une chaîne en Python (cf. une *chaîne* de caractère ou en anglais *string*). Les Strings en pythons doivent toujours être entourées de guillemets (simples ou doubles). Sans ces guillements, Python pensera qu'il s'agit d'un nom de variable tel que défini plus tôt puisque les noms de variables de prennent pas de guillemets. Cette distinction est complexe mais extrêmement importante : les noms de variabels (*sans* guillemets) et les strings (*avec* des guillemets) se ressemblent mais servent à des choses totalement différentes. Comparez :"
   ]
  },
  {
   "cell_type": "code",
   "execution_count": null,
   "metadata": {
    "collapsed": false
   },
   "outputs": [],
   "source": [
    "nom = \"Bonny\"\n",
    "Bonny = \"name\"\n",
    "Clyde = \"Clyde\"\n",
    "print(nom)\n",
    "print (Bonny)\n",
    "print(Clyde)"
   ]
  },
  {
   "cell_type": "markdown",
   "metadata": {},
   "source": [
    "Certains opérateurs arithmétiques que nous avons vu précédemment peuvent être très utiles avec des strings. Les deux opérateurs de multiplications (`*`) et d'addition (`+`) fournissent des fonctionnalités intéressantes pour interagir avec des chaines, tels que ce bloc ci-dessous l'illustre.\n"
   ]
  },
  {
   "cell_type": "code",
   "execution_count": null,
   "metadata": {
    "collapsed": false
   },
   "outputs": [],
   "source": [
    "chaine_originale = \"bla\"\n",
    "nouvelle_chaine = 2*chaine_originale\n",
    "print(nouvelle_chaine)\n",
    "nouvelle_chaine = nouvelle_chaine+\"h\"\n",
    "print(nouvelle_chaine)"
   ]
  },
  {
   "cell_type": "markdown",
   "metadata": {},
   "source": [
    "Ajouter des chaînes ensembles est appelé une concaténation de chaîne ou *string concatenation* ou *concatenation* en informatique. Utilisez le bloc ci-dessous afin de voir si le raccourci `+=` fonctionne de la même manière pour ajouter 'h' à une variable `chaine_originale`. N'oubliez pas de vérifier en affichant le résultat."
   ]
  },
  {
   "cell_type": "code",
   "execution_count": null,
   "metadata": {
    "collapsed": false
   },
   "outputs": [],
   "source": [
    "chaine_originale = \"blabla\"\n",
    "# add an 'h'...\n",
    "print(chaine_originale)"
   ]
  },
  {
   "cell_type": "markdown",
   "metadata": {},
   "source": [
    "Désormais, nous voulons écrire un code qui définit une variable `nom` à laquelle nous assignons votre nom. Si votre nom est plus court que 5 caractères, utilisez votre prénom. Si votre prénom est plus court que 5 caractère, utilisez une combinaison des deux. Maintenant afficher le résultat à l'écran."
   ]
  },
  {
   "cell_type": "code",
   "execution_count": null,
   "metadata": {
    "collapsed": false
   },
   "outputs": [],
   "source": [
    "# Votre code est ici"
   ]
  },
  {
   "cell_type": "markdown",
   "metadata": {},
   "source": [
    "Les strings sont appelées des strings ou chaînes car elles consistent en une série de caractères individuels. Nous pouvons accéder à chacun des individus en python via l'index d'une chaîne, puisque chaque caractère a son propre index dans une chaîne. Pour afficher la première lettre de votre nom, tapez : "
   ]
  },
  {
   "cell_type": "code",
   "execution_count": null,
   "metadata": {
    "collapsed": false
   },
   "outputs": [],
   "source": [
    "premiere_lettre = nom[0]\n",
    "print(premiere_lettre)"
   ]
  },
  {
   "cell_type": "markdown",
   "metadata": {},
   "source": [
    "![Indexes of the string Mr White starting with 0](https://dl.dropboxusercontent.com/u/259394/string_index.png \"Python strings and indexes\")\n",
    "\n",
    "Regardez la chaîne \"Mr White\". Nous utilisons l'index `0` pour accéder au premier caractère de la chaîne. Cela peut sembler bizarre, mais souvenez vous qu'en python les index commencent à 0. A chaque fois que vous comptez en python, commencez à 0 plutôt que 1. Notez que l'espace est aussi indexé, ici 2. C'est une chose à laquelle vous devrez vous faire !\n",
    "\n",
    "Puisque vous connaissez la longueur de votre nom, vous pouvez afficher la dernière lettre de votre nom !"
   ]
  },
  {
   "cell_type": "code",
   "execution_count": null,
   "metadata": {
    "collapsed": false
   },
   "outputs": [],
   "source": [
    "derniere_lettre = nom[# fill in the last index of your name (tip indexes start at 0)]\n",
    "print(derniere_lettre)"
   ]
  },
  {
   "cell_type": "markdown",
   "metadata": {},
   "source": [
    "Ce n'est pas pratique de devoir toujours connaître la longueur d'une chaine afin de savoir quelle est la dernière chaîne. Python nous donne un raccourci pour accéder à un chaînon en partant de la fin :"
   ]
  },
  {
   "cell_type": "code",
   "execution_count": null,
   "metadata": {
    "collapsed": false
   },
   "outputs": [],
   "source": [
    "derniere_lettre = nom[-1]\n",
    "print(derniere_lettre)"
   ]
  },
  {
   "cell_type": "markdown",
   "metadata": {},
   "source": [
    "Pour accéder à la dernière lettre d'une chaîne, vous devez utiliser l'index [-1]. Alternativement, vous pouvez utiliser `len()` qui vous informe sur la longueur de la chaîne :"
   ]
  },
  {
   "cell_type": "code",
   "execution_count": null,
   "metadata": {
    "collapsed": false
   },
   "outputs": [],
   "source": [
    "print(len(nom))"
   ]
  },
  {
   "cell_type": "markdown",
   "metadata": {},
   "source": [
    "Comprenez-vous ce bloc ? Pouvez vous expliquer ce qu'il se passe ?"
   ]
  },
  {
   "cell_type": "code",
   "execution_count": null,
   "metadata": {
    "collapsed": false
   },
   "outputs": [],
   "source": [
    "print(nom[len(nom)-1])"
   ]
  },
  {
   "cell_type": "markdown",
   "metadata": {},
   "source": [
    "Désormais pouvez vous écrire un code qui définit une variable `avant_derniere_lettre` et y assigner l'avant dernière lettre de votre nom ?"
   ]
  },
  {
   "cell_type": "code",
   "execution_count": null,
   "metadata": {
    "collapsed": false
   },
   "outputs": [],
   "source": [
    "avant_derniere_lettre = nom[# insert your code here]\n",
    "print(avant_derniere_lettre)"
   ]
  },
  {
   "cell_type": "markdown",
   "metadata": {},
   "source": [
    "Vous commencez à devenir un-e vrai-e expert-e de l'index de chaîne. Et si nous voulions avoir les deux ou trois dernières lettres de  notre nom ? En python, nous pouvons utiliser les index de tranche ou 'slice-indexes' ou 'slices'. Pour récupérer les deux premières lettres de notre nom, tapons :"
   ]
  },
  {
   "cell_type": "code",
   "execution_count": null,
   "metadata": {
    "collapsed": false
   },
   "outputs": [],
   "source": [
    "deux_prem_lettres = nom[0:2]\n",
    "print(deux_prem_lettres)"
   ]
  },
  {
   "cell_type": "markdown",
   "metadata": {},
   "source": [
    "L'index `0` est optionnel et nous aurions pu tapé `nom[:2]`. Cela signifie : prenez tous les caractères tant que vous n'avez pas atteint l'index numéro 2 (jusqu'à la troisième lettre sans l'inclure. Nous pouvons aussi commencer à l'index 2 et laisser l'index de fin indéfini :"
   ]
  },
  {
   "cell_type": "code",
   "execution_count": null,
   "metadata": {
    "collapsed": false
   },
   "outputs": [],
   "source": [
    "sans_deux_prem_lettres = nom[2:]\n",
    "print(sans_deux_prem_lettres)"
   ]
  },
  {
   "cell_type": "markdown",
   "metadata": {},
   "source": [
    "Puisque nous n'avions pas défini d'index de fin, Python a continué jusqu'à arriver à la fin de la chaîne. Si nous voulons obtenir les deux dernières lettres de notre nom, nous pouvons taper :"
   ]
  },
  {
   "cell_type": "code",
   "execution_count": null,
   "metadata": {
    "collapsed": false
   },
   "outputs": [],
   "source": [
    "deux_dern_lettres = nom[-2:]\n",
    "print(deux_dern_lettres)"
   ]
  },
  {
   "cell_type": "markdown",
   "metadata": {},
   "source": [
    "-------"
   ]
  },
  {
   "cell_type": "markdown",
   "metadata": {},
   "source": [
    "##A votre tour"
   ]
  },
  {
   "cell_type": "markdown",
   "metadata": {},
   "source": [
    "- Pouvez-vous définir une variable `lettre_du_milieu` et y assigner toutes les lettres de votre nom sauf la première et les deux dernières ?"
   ]
  },
  {
   "cell_type": "code",
   "execution_count": null,
   "metadata": {
    "collapsed": false
   },
   "outputs": [],
   "source": [
    "# insert your middle_letters code here"
   ]
  },
  {
   "cell_type": "markdown",
   "metadata": {},
   "source": [
    "- En prenant ces deux mots, pouvez vous écrire un code qui donnera `humanités` en utilisant uniquement les tranches et la concaténation (Donc sans guillemets) ? Pouvez-vous afficher le nombre de caractères qu'humanités contient ?"
   ]
  },
  {
   "cell_type": "code",
   "execution_count": null,
   "metadata": {
    "collapsed": false
   },
   "outputs": [],
   "source": [
    "word1 = \"humain\"\n",
    "word2 = \"opportunités\""
   ]
  },
  {
   "cell_type": "markdown",
   "metadata": {},
   "source": [
    "---------\n",
    "\n",
    "##\"Casting\" variables"
   ]
  },
  {
   "cell_type": "markdown",
   "metadata": {},
   "source": [
    "Above, we have already learned that each variable as a data type: variables can be strings, floats, integers, etc. Sometimes it is necessary to convert one type into the other. Consider this:"
   ]
  },
  {
   "cell_type": "code",
   "execution_count": null,
   "metadata": {
    "collapsed": false
   },
   "outputs": [],
   "source": [
    "x = \"5\"\n",
    "y = 2\n",
    "print(x + y)"
   ]
  },
  {
   "cell_type": "markdown",
   "metadata": {},
   "source": [
    "This should raise an error on your machine: does the error message gives you a hint as to why this doesn't work? *x* is a string, and *y* is an integer. Because of this, you cannot sum them. Luckily there exist ways to 'cast' variables from one type of variable into another type of variable.\n",
    "\n",
    "- Do you understand the outcome of the following code?\n",
    "- Can you comment in your own words on the effect of applying `int()` and `str()` to variables?"
   ]
  },
  {
   "cell_type": "code",
   "execution_count": null,
   "metadata": {
    "collapsed": false
   },
   "outputs": [],
   "source": [
    "x = \"5\"\n",
    "y = 2\n",
    "print(x + str(y))\n",
    "print(int(x) + y)"
   ]
  },
  {
   "cell_type": "markdown",
   "metadata": {},
   "source": [
    "Other types of conversions are possible as well, and we will see a couple of them in the next chapters. Because variables can change data type anytime they want, we say that Python uses 'dynamic typing', as opposed to other more 'strict' languages that use 'strong typing'. You can check a variable's type using the `type()`command."
   ]
  },
  {
   "cell_type": "markdown",
   "metadata": {},
   "source": [
    "##DIY"
   ]
  },
  {
   "cell_type": "markdown",
   "metadata": {},
   "source": [
    "When you exchange code with fellow programmers (as you will often have to do in the real world), it is really helpful if you include some useful information about your scripts. Have a look at the code block below and read about `commenting` on Python code in the comments:"
   ]
  },
  {
   "cell_type": "code",
   "execution_count": null,
   "metadata": {
    "collapsed": false
   },
   "outputs": [],
   "source": [
    "# comment: insert your code here.\n",
    "# BTW: Have you noticed that everything behind the hashtag \n",
    "print(\"Something...\") # on a line is ignored by your python interpreter?\n",
    "print(\"and something else..\") # this is really helpful to comment on your code!\n",
    "\"\"\"Another way\n",
    "of commenting on your code is via \n",
    "triple quotes -- these can be distributed over multiple \"\"\" # lines\n",
    "print(\"Done.\")"
   ]
  },
  {
   "cell_type": "markdown",
   "metadata": {},
   "source": [
    "So, how many ways are there to comment on your code in Python? "
   ]
  },
  {
   "cell_type": "markdown",
   "metadata": {},
   "source": [
    "----------"
   ]
  },
  {
   "cell_type": "markdown",
   "metadata": {},
   "source": [
    "##### What we have learnt"
   ]
  },
  {
   "cell_type": "markdown",
   "metadata": {},
   "source": [
    "To finish this section, here is an overview of what we have learnt. Go through the list and make sure you understand all the concepts.\n",
    "\n",
    "-  concatenation\n",
    "-  index\n",
    "-  slicing\n",
    "- `zero-indexed` numbering\n",
    "-  `len()`\n",
    "-  type casting: `int()` and `str()`\n",
    "-  `type()`\n",
    "-  code commenting via hashtags and triple double quotes\n"
   ]
  },
  {
   "cell_type": "markdown",
   "metadata": {},
   "source": [
    "-------"
   ]
  },
  {
   "cell_type": "markdown",
   "metadata": {},
   "source": [
    "##Final Exercises Chapter 1"
   ]
  },
  {
   "cell_type": "markdown",
   "metadata": {},
   "source": [
    "Inspired by *Think Python* by Allen B. Downey (http://thinkpython.com), *Introduction to Programming Using Python* by Y. Liang (Pearson, 2013). Some exercises below have been taken from: http://www.ling.gu.se/~lager/python_exercises.html."
   ]
  },
  {
   "cell_type": "markdown",
   "metadata": {},
   "source": [
    "-  Ex. 1: Suppose the cover price of a book is 24.95 EUR, but bookstores get a 40 percent discount. Shipping costs 3 EUR for the first copy and 75 cents for each additional copy. What is the total wholesale cost for 60 copies? Print the result in a pretty fashion, using casting where necessary!"
   ]
  },
  {
   "cell_type": "code",
   "execution_count": null,
   "metadata": {
    "collapsed": false
   },
   "outputs": [],
   "source": [
    "# your code goes here"
   ]
  },
  {
   "cell_type": "markdown",
   "metadata": {},
   "source": [
    "-  Ex. 2: Can you identify and explain the errors in the following lines of code? Correct them please!"
   ]
  },
  {
   "cell_type": "code",
   "execution_count": null,
   "metadata": {
    "collapsed": false
   },
   "outputs": [],
   "source": [
    "print(\"A message\").\n",
    "print(\"A message')\n",
    "print('A messagef\"')"
   ]
  },
  {
   "cell_type": "markdown",
   "metadata": {},
   "source": [
    "-  Ex. 3: When something is wrong with your code, Python will raise errors. Often these will be 'syntax errors' that signal that something is wrong with the form of your code (i.e. a `SyntaxError` like the one thrown in the previous exercice). There are also 'runtime errors' that signal that your code was in itself formally correct, but that something went wrong during the code's execution. A good example is the `ZeroDivisionError`. Try to make Python throw such a ZeroDivisionError!"
   ]
  },
  {
   "cell_type": "code",
   "execution_count": null,
   "metadata": {
    "collapsed": false
   },
   "outputs": [],
   "source": [
    "# ZeroDivisionError"
   ]
  },
  {
   "cell_type": "markdown",
   "metadata": {},
   "source": [
    "- Ex. 4: Write a program that assigns the result of `9.5 * 4.5 - 2.5 * 345.5 - 3.5` to a variable. Print this variable. Use round brackets to indicate 'operator precedence' and make sure that subtractions are performed before multiplications. When you convert the outcome to a string, how many characters does it count?"
   ]
  },
  {
   "cell_type": "code",
   "execution_count": null,
   "metadata": {
    "collapsed": false
   },
   "outputs": [],
   "source": [
    "# insert your code here"
   ]
  },
  {
   "cell_type": "markdown",
   "metadata": {},
   "source": [
    "- Ex. 5: Define the variables `a=2`, b=`20007` and c=`5`. Using only the operations you learned about above, can you now print the following numbers: `2005`, `252525252`, `2510`, `-60025` and `2002507`? (Hint: use type casting and string slicing to access parts of the original numbers!) "
   ]
  },
  {
   "cell_type": "code",
   "execution_count": null,
   "metadata": {
    "collapsed": false
   },
   "outputs": [],
   "source": [
    "# numbers"
   ]
  },
  {
   "cell_type": "markdown",
   "metadata": {},
   "source": [
    "-  Ex. 6: Define three variables `var1`, `var2` and `var3`. Calculate the average of these variables and assign it to `average`. Print the result in a fancy manner. Add three comments to this piece of code using three different ways."
   ]
  },
  {
   "cell_type": "code",
   "execution_count": null,
   "metadata": {
    "collapsed": false
   },
   "outputs": [],
   "source": [
    "# average"
   ]
  },
  {
   "cell_type": "markdown",
   "metadata": {},
   "source": [
    "-  Ex. 7: Write a little program that can compute the surface of circle, using the variables `radius` and `pi=3.14159`. The formula is of course radius, multiplied by radius, multiplied by `pi`. Print the outcome of your program as follows: 'The surface area of a circle with radius ... is: ...'."
   ]
  },
  {
   "cell_type": "code",
   "execution_count": null,
   "metadata": {
    "collapsed": false
   },
   "outputs": [],
   "source": [
    "# circle code"
   ]
  },
  {
   "cell_type": "markdown",
   "metadata": {},
   "source": [
    "- Ex. 8: There is one operator (like the ones for multiplication and subtraction) that we did not mention yet, namely the modulus operator `%`. Could you figure by yourself what it does when you place it between two numbers (e.g. 113 % 9)? (PS: It's OK to get help online...) You don't need this operator all that often, but when you do, it comes in really handy!"
   ]
  },
  {
   "cell_type": "code",
   "execution_count": null,
   "metadata": {
    "collapsed": false
   },
   "outputs": [],
   "source": [
    "# try out the modulus operator!"
   ]
  },
  {
   "cell_type": "markdown",
   "metadata": {},
   "source": [
    "- Ex. 9: Can you use the modulus operator you just learned about to solve the following task? Write a code block that classifies a given amount of money into smaller monetary units. Set the `amount` variable to 11.56. You code should outputs a report listing the monetary equivalent in dollars, quarters, dimes, nickels, and pennies. Your program should report the maximum number of dollars, then the number of quarters, dimes, nickels, and pennies, in this order, to result in the minimum number of coins. Here are the steps in developing the program:\n",
    ">   Convert the amount (11.56) into cents (1156).\n",
    ">   Divide the cents by 100 to find the number of dollars, but first subtract the rest using the modulus operator!\n",
    ">   Divide the remaining cents by 25 to find the number of quarters, but, again, first subtract the rest using the modulus operator!\n",
    ">   Divide the remaining cents by 10 to find the number of dimes, etc.\n",
    ">   Divide the remaining cents by 5 to find the number of nickels, etc.\n",
    ">   The remaining cents are the pennies. Now display the result for your cashier!"
   ]
  },
  {
   "cell_type": "code",
   "execution_count": null,
   "metadata": {
    "collapsed": false
   },
   "outputs": [],
   "source": [
    "# cashier code"
   ]
  },
  {
   "cell_type": "markdown",
   "metadata": {},
   "source": [
    "-----------------------\n",
    "\n",
    "You've reached the end of Chapter 1! You can safely ignore the code block below -- it's only there to make the page prettier."
   ]
  },
  {
   "cell_type": "code",
   "execution_count": null,
   "metadata": {
    "collapsed": false
   },
   "outputs": [],
   "source": [
    "from IPython.core.display import HTML\n",
    "def css_styling():\n",
    "    styles = open(\"styles/custom.css\", \"r\").read()\n",
    "    return HTML(styles)\n",
    "css_styling()"
   ]
  }
 ],
 "metadata": {
  "kernelspec": {
   "display_name": "Python 3",
   "language": "python",
   "name": "python3"
  },
  "language_info": {
   "codemirror_mode": {
    "name": "ipython",
    "version": 3
   },
   "file_extension": ".py",
   "mimetype": "text/x-python",
   "name": "python",
   "nbconvert_exporter": "python",
   "pygments_lexer": "ipython3",
   "version": "3.4.3"
  }
 },
 "nbformat": 4,
 "nbformat_minor": 0
}
