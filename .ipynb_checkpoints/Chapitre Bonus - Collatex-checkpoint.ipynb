{
 "cells": [
  {
   "cell_type": "markdown",
   "metadata": {},
   "source": [
    "Collatex est un module python permettant de faire de la collation automatique. Pour lancer ce ipython notebook, installez le package en utilisant la ligne suivante dans votre terminal ou invité de commandes :\n",
    "\n",
    "Essayez sur les autres plateformes, trouver le dossier `anaconda/bin`, faire `cd [Chemin vers anaconda/bin]` puis : \n",
    "\n",
    "```\n",
    "> anaconda/bin $ source activate py34\n",
    "> anaconda/bin $ pip install collatex-2.0.0rc11\n",
    "```\n",
    "\n",
    "Nous venons d'utiliser pip, un module python permettant l'installation de modules via une plate-forme (PyPy)"
   ]
  },
  {
   "cell_type": "markdown",
   "metadata": {},
   "source": [
    "Dans un premier temps, nous allons importer un module, nous avons vu comment faire cela précédemment :"
   ]
  },
  {
   "cell_type": "code",
   "execution_count": 3,
   "metadata": {
    "collapsed": false
   },
   "outputs": [],
   "source": [
    "import collatex"
   ]
  }
 ],
 "metadata": {
  "kernelspec": {
   "display_name": "Python 3",
   "language": "python",
   "name": "python3"
  },
  "language_info": {
   "codemirror_mode": {
    "name": "ipython",
    "version": 3
   },
   "file_extension": ".py",
   "mimetype": "text/x-python",
   "name": "python",
   "nbconvert_exporter": "python",
   "pygments_lexer": "ipython3",
   "version": "3.4.3"
  }
 },
 "nbformat": 4,
 "nbformat_minor": 0
}
